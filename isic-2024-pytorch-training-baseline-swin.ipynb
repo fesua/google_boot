{
 "cells": [
  {
   "cell_type": "markdown",
   "id": "67500584",
   "metadata": {
    "papermill": {
     "duration": 0.009,
     "end_time": "2024-08-27T03:27:03.770987",
     "exception": false,
     "start_time": "2024-08-27T03:27:03.761987",
     "status": "completed"
    },
    "tags": []
   },
   "source": [
    "# ISIC 2024 - Skin Cancer Detection: Pytorch Model w/ Image + Metadata (5 Folds)"
   ]
  },
  {
   "cell_type": "markdown",
   "id": "99b41fe0",
   "metadata": {
    "papermill": {
     "duration": 0.008191,
     "end_time": "2024-08-27T03:27:03.787652",
     "exception": false,
     "start_time": "2024-08-27T03:27:03.779461",
     "status": "completed"
    },
    "tags": []
   },
   "source": [
    "Inspired by [motono0223](https://www.kaggle.com/code/motono0223/isic-pytorch-training-baseline-eva02/notebook#Run-Training) \n",
    "\n",
    "Idea:\n",
    "* Use 1:20 benign vs malignant training data\n",
    "* Feature engineer and append snippet of data to images\n",
    "* Data augment images for diversity\n",
    "* Train Swin Transformer and simple PyTorch model\n",
    "* Save model base on better validation AUROC\n",
    "\n",
    "Notebooks:\n",
    "* Training notebook (current)\n",
    "* [Inference notebook](https://www.kaggle.com/code/qiaoyingzhang/isic-2024-pytorch-inference-swin/notebook)"
   ]
  },
  {
   "cell_type": "markdown",
   "id": "ef59be37",
   "metadata": {
    "papermill": {
     "duration": 0.00813,
     "end_time": "2024-08-27T03:27:03.804112",
     "exception": false,
     "start_time": "2024-08-27T03:27:03.795982",
     "status": "completed"
    },
    "tags": []
   },
   "source": [
    "# Import Libraries"
   ]
  },
  {
   "cell_type": "code",
   "execution_count": 2,
   "id": "9b0e71ff",
   "metadata": {
    "execution": {
     "iopub.execute_input": "2024-08-27T03:27:17.489551Z",
     "iopub.status.busy": "2024-08-27T03:27:17.488599Z",
     "iopub.status.idle": "2024-08-27T03:27:26.746285Z",
     "shell.execute_reply": "2024-08-27T03:27:26.745505Z"
    },
    "papermill": {
     "duration": 9.271021,
     "end_time": "2024-08-27T03:27:26.748662",
     "exception": false,
     "start_time": "2024-08-27T03:27:17.477641",
     "status": "completed"
    },
    "tags": []
   },
   "outputs": [],
   "source": [
    "import os\n",
    "import gc\n",
    "import cv2\n",
    "import copy\n",
    "import time\n",
    "import random\n",
    "import glob\n",
    "import h5py\n",
    "import numpy as np\n",
    "import pandas as pd\n",
    "from matplotlib import pyplot as plt\n",
    "from PIL import Image\n",
    "from io import BytesIO\n",
    "\n",
    "# PyTorch Imports\n",
    "import torch\n",
    "import torch.nn as nn\n",
    "import torch.optim as optim\n",
    "from torch.optim import lr_scheduler\n",
    "from torch.utils.data import Dataset, DataLoader\n",
    "from torcheval.metrics.functional import binary_auroc\n",
    "\n",
    "# Utils\n",
    "import joblib\n",
    "from tqdm import tqdm\n",
    "from collections import defaultdict\n",
    "\n",
    "# Sklearn Imports\n",
    "from sklearn.preprocessing import StandardScaler, LabelEncoder\n",
    "from sklearn.model_selection import StratifiedGroupKFold\n",
    "\n",
    "# For Image Modelsipip \n",
    "import timm\n",
    "\n",
    "# Albumentations for augmentations\n",
    "import albumentations as A\n",
    "from albumentations.pytorch import ToTensorV2\n",
    "\n",
    "# For colored terminal text\n",
    "from colorama import Fore, Back, Style\n",
    "b_ = Fore.BLUE\n",
    "sr_ = Style.RESET_ALL\n",
    "\n",
    "import warnings\n",
    "warnings.filterwarnings(\"ignore\")\n",
    "\n",
    "# For descriptive error messages\n",
    "os.environ['CUDA_LAUNCH_BLOCKING'] = \"1\""
   ]
  },
  {
   "cell_type": "markdown",
   "id": "e17714af",
   "metadata": {
    "papermill": {
     "duration": 0.008609,
     "end_time": "2024-08-27T03:27:26.766478",
     "exception": false,
     "start_time": "2024-08-27T03:27:26.757869",
     "status": "completed"
    },
    "tags": []
   },
   "source": [
    "# Initialize Environment & Configuration"
   ]
  },
  {
   "cell_type": "code",
   "execution_count": 3,
   "id": "e304e2b0",
   "metadata": {
    "execution": {
     "iopub.execute_input": "2024-08-27T03:27:26.786660Z",
     "iopub.status.busy": "2024-08-27T03:27:26.785803Z",
     "iopub.status.idle": "2024-08-27T03:27:26.854644Z",
     "shell.execute_reply": "2024-08-27T03:27:26.853869Z"
    },
    "papermill": {
     "duration": 0.080412,
     "end_time": "2024-08-27T03:27:26.856515",
     "exception": false,
     "start_time": "2024-08-27T03:27:26.776103",
     "status": "completed"
    },
    "tags": []
   },
   "outputs": [],
   "source": [
    "CONFIG = {\n",
    "    \"seed\": 2024,\n",
    "    \"epochs\": 50,\n",
    "    \"img_size\": 224,\n",
    "    \"model_name\": 'swin_large_patch4_window7_224',\n",
    "    \"train_batch_size\": 32,\n",
    "    \"valid_batch_size\": 32,\n",
    "    \"learning_rate\": 1e-4,\n",
    "    \"scheduler\": 'CosineAnnealingLR',\n",
    "    \"min_lr\": 1e-10,\n",
    "    \"T_max\": 500,\n",
    "    \"weight_decay\": 1e-6,\n",
    "    \"fold\" : 1,\n",
    "    \"n_fold\": 5,\n",
    "    \"n_accumulate\": 1,\n",
    "    \"device\": torch.device(\"cuda:0\" if torch.cuda.is_available() else \"cpu\"),\n",
    "}\n",
    "\n",
    "# Set seed for reproducibility\n",
    "def seed_everything(seed):\n",
    "    '''Sets the seed of the entire notebook so results are the same every time we run.\n",
    "    This is for REPRODUCIBILITY.'''\n",
    "    np.random.seed(seed)\n",
    "    torch.manual_seed(seed)\n",
    "    torch.cuda.manual_seed(seed)\n",
    "    torch.backends.cudnn.deterministic = True\n",
    "    torch.backends.cudnn.benchmark = False\n",
    "    os.environ['PYTHONHASHSEED'] = str(seed)\n",
    "    \n",
    "seed_everything(CONFIG['seed'])"
   ]
  },
  {
   "cell_type": "code",
   "execution_count": 4,
   "id": "3491fa10",
   "metadata": {
    "execution": {
     "iopub.execute_input": "2024-08-27T03:27:26.875870Z",
     "iopub.status.busy": "2024-08-27T03:27:26.875204Z",
     "iopub.status.idle": "2024-08-27T03:27:26.879147Z",
     "shell.execute_reply": "2024-08-27T03:27:26.878305Z"
    },
    "papermill": {
     "duration": 0.015626,
     "end_time": "2024-08-27T03:27:26.881254",
     "exception": false,
     "start_time": "2024-08-27T03:27:26.865628",
     "status": "completed"
    },
    "tags": []
   },
   "outputs": [],
   "source": [
    "ROOT_DIR = \"/kaggle/input/isic-2024-challenge\"\n",
    "HDF_FILE = f\"{ROOT_DIR}/train-image.hdf5\""
   ]
  },
  {
   "cell_type": "code",
   "execution_count": 5,
   "id": "59e8475c",
   "metadata": {
    "execution": {
     "iopub.execute_input": "2024-08-27T03:27:26.900197Z",
     "iopub.status.busy": "2024-08-27T03:27:26.899677Z",
     "iopub.status.idle": "2024-08-27T03:27:26.903995Z",
     "shell.execute_reply": "2024-08-27T03:27:26.903180Z"
    },
    "papermill": {
     "duration": 0.015645,
     "end_time": "2024-08-27T03:27:26.905742",
     "exception": false,
     "start_time": "2024-08-27T03:27:26.890097",
     "status": "completed"
    },
    "tags": []
   },
   "outputs": [],
   "source": [
    "MV_DIR = \"/kaggle/input/skin-cancer-malignant-vs-benign\"\n",
    "TRAIN_B_DIR = f\"{MV_DIR}/train/benign\"\n",
    "TRAIN_M_DIR = f\"{MV_DIR}/train/malignant\"\n",
    "\n",
    "VALID_B_DIR = f\"{MV_DIR}/test/benign\"\n",
    "VALID_M_DIR = f\"{MV_DIR}/test/malignant\""
   ]
  },
  {
   "cell_type": "code",
   "execution_count": 6,
   "id": "687d686a",
   "metadata": {
    "execution": {
     "iopub.execute_input": "2024-08-27T03:27:26.924168Z",
     "iopub.status.busy": "2024-08-27T03:27:26.923914Z",
     "iopub.status.idle": "2024-08-27T03:27:26.927673Z",
     "shell.execute_reply": "2024-08-27T03:27:26.926894Z"
    },
    "papermill": {
     "duration": 0.015101,
     "end_time": "2024-08-27T03:27:26.929541",
     "exception": false,
     "start_time": "2024-08-27T03:27:26.914440",
     "status": "completed"
    },
    "tags": []
   },
   "outputs": [],
   "source": [
    "HAM_DIR = \"/kaggle/input/ham10000subset\"\n",
    "HAM_B_DIR = f\"{MV_DIR}/train/benign\"\n",
    "HAM_M_DIR = f\"{MV_DIR}/train/malignant\""
   ]
  },
  {
   "cell_type": "markdown",
   "id": "4baf6079",
   "metadata": {
    "papermill": {
     "duration": 0.008651,
     "end_time": "2024-08-27T03:27:26.946914",
     "exception": false,
     "start_time": "2024-08-27T03:27:26.938263",
     "status": "completed"
    },
    "tags": []
   },
   "source": [
    "# Data Preparation"
   ]
  },
  {
   "cell_type": "code",
   "execution_count": 7,
   "id": "b3052ca0",
   "metadata": {
    "execution": {
     "iopub.execute_input": "2024-08-27T03:27:26.965788Z",
     "iopub.status.busy": "2024-08-27T03:27:26.965152Z",
     "iopub.status.idle": "2024-08-27T03:27:34.096963Z",
     "shell.execute_reply": "2024-08-27T03:27:34.095943Z"
    },
    "papermill": {
     "duration": 7.143636,
     "end_time": "2024-08-27T03:27:34.099268",
     "exception": false,
     "start_time": "2024-08-27T03:27:26.955632",
     "status": "completed"
    },
    "tags": []
   },
   "outputs": [
    {
     "name": "stdout",
     "output_type": "stream",
     "text": [
      "       df.shape, # of positive cases, # of patients\n",
      "original> (401059, 55) 393 (1042,)\n",
      "df.shape, # of positive cases, # of patients\n",
      "original> (401059, 4) 393 (1042,)\n"
     ]
    },
    {
     "data": {
      "text/html": [
       "<div>\n",
       "<style scoped>\n",
       "    .dataframe tbody tr th:only-of-type {\n",
       "        vertical-align: middle;\n",
       "    }\n",
       "\n",
       "    .dataframe tbody tr th {\n",
       "        vertical-align: top;\n",
       "    }\n",
       "\n",
       "    .dataframe thead th {\n",
       "        text-align: right;\n",
       "    }\n",
       "</style>\n",
       "<table border=\"1\" class=\"dataframe\">\n",
       "  <thead>\n",
       "    <tr style=\"text-align: right;\">\n",
       "      <th></th>\n",
       "      <th>id</th>\n",
       "      <th>target</th>\n",
       "      <th>patient_id</th>\n",
       "      <th>isic</th>\n",
       "    </tr>\n",
       "  </thead>\n",
       "  <tbody>\n",
       "    <tr>\n",
       "      <th>0</th>\n",
       "      <td>ISIC_0015670</td>\n",
       "      <td>0</td>\n",
       "      <td>IP_1235828</td>\n",
       "      <td>0</td>\n",
       "    </tr>\n",
       "    <tr>\n",
       "      <th>1</th>\n",
       "      <td>ISIC_0015845</td>\n",
       "      <td>0</td>\n",
       "      <td>IP_8170065</td>\n",
       "      <td>0</td>\n",
       "    </tr>\n",
       "    <tr>\n",
       "      <th>2</th>\n",
       "      <td>ISIC_0015864</td>\n",
       "      <td>0</td>\n",
       "      <td>IP_6724798</td>\n",
       "      <td>0</td>\n",
       "    </tr>\n",
       "    <tr>\n",
       "      <th>3</th>\n",
       "      <td>ISIC_0015902</td>\n",
       "      <td>0</td>\n",
       "      <td>IP_4111386</td>\n",
       "      <td>0</td>\n",
       "    </tr>\n",
       "    <tr>\n",
       "      <th>4</th>\n",
       "      <td>ISIC_0024200</td>\n",
       "      <td>0</td>\n",
       "      <td>IP_8313778</td>\n",
       "      <td>0</td>\n",
       "    </tr>\n",
       "  </tbody>\n",
       "</table>\n",
       "</div>"
      ],
      "text/plain": [
       "             id  target  patient_id  isic\n",
       "0  ISIC_0015670       0  IP_1235828     0\n",
       "1  ISIC_0015845       0  IP_8170065     0\n",
       "2  ISIC_0015864       0  IP_6724798     0\n",
       "3  ISIC_0015902       0  IP_4111386     0\n",
       "4  ISIC_0024200       0  IP_8313778     0"
      ]
     },
     "execution_count": 7,
     "metadata": {},
     "output_type": "execute_result"
    }
   ],
   "source": [
    "df_ISIC = pd.read_csv(f\"{ROOT_DIR}/train-metadata.csv\")\n",
    "\n",
    "print(\"       df.shape, # of positive cases, # of patients\")\n",
    "print(\"original>\", df_ISIC.shape, df_ISIC.target.sum(), df_ISIC[\"patient_id\"].unique().shape)\n",
    "\n",
    "# df_ISIC_positive = df_ISIC[df_ISIC[\"target\"] == 1].reset_index(drop=True)\n",
    "# df_ISIC_negative = df_ISIC[df_ISIC[\"target\"] == 0].reset_index(drop=True)\n",
    "\n",
    "# Data ratio -> positive:negative = 1:25\n",
    "# df_ISIC = pd.concat([df_ISIC_positive, df_ISIC_negative.iloc[:df_ISIC_positive.shape[0]*20, :]])  \n",
    "# print(\"filtered>\", df_ISIC.shape, df_ISIC.target.sum(), df_ISIC[\"patient_id\"].unique().shape)\n",
    "\n",
    "# df_ISIC = df_ISIC.reset_index(drop=True)\n",
    "# print(\"df.shape, # of positive cases, # of patients\")\n",
    "# print(\"original>\", df_ISIC.shape, df_ISIC.target.sum(), df_ISIC[\"patient_id\"].unique().shape)\n",
    "\n",
    "df_ISIC = df_ISIC[['isic_id', 'target','patient_id']]\n",
    "df_ISIC = df_ISIC.rename(columns={'isic_id':'id'})\n",
    "df_ISIC['isic'] = 0\n",
    "print(\"df.shape, # of positive cases, # of patients\")\n",
    "print(\"original>\", df_ISIC.shape, df_ISIC.target.sum(), df_ISIC[\"patient_id\"].unique().shape)\n",
    "\n",
    "df_ISIC.head()"
   ]
  },
  {
   "cell_type": "code",
   "execution_count": 8,
   "id": "c4842a30",
   "metadata": {
    "execution": {
     "iopub.execute_input": "2024-08-27T03:27:34.119243Z",
     "iopub.status.busy": "2024-08-27T03:27:34.118952Z",
     "iopub.status.idle": "2024-08-27T03:27:34.494959Z",
     "shell.execute_reply": "2024-08-27T03:27:34.494213Z"
    },
    "papermill": {
     "duration": 0.388253,
     "end_time": "2024-08-27T03:27:34.497134",
     "exception": false,
     "start_time": "2024-08-27T03:27:34.108881",
     "status": "completed"
    },
    "tags": []
   },
   "outputs": [
    {
     "name": "stdout",
     "output_type": "stream",
     "text": [
      "       df.shape, # of positive cases, # of patients\n",
      "original> (3297, 4) 1497 (1,)\n"
     ]
    },
    {
     "data": {
      "text/html": [
       "<div>\n",
       "<style scoped>\n",
       "    .dataframe tbody tr th:only-of-type {\n",
       "        vertical-align: middle;\n",
       "    }\n",
       "\n",
       "    .dataframe tbody tr th {\n",
       "        vertical-align: top;\n",
       "    }\n",
       "\n",
       "    .dataframe thead th {\n",
       "        text-align: right;\n",
       "    }\n",
       "</style>\n",
       "<table border=\"1\" class=\"dataframe\">\n",
       "  <thead>\n",
       "    <tr style=\"text-align: right;\">\n",
       "      <th></th>\n",
       "      <th>id</th>\n",
       "      <th>target</th>\n",
       "      <th>patient_id</th>\n",
       "      <th>isic</th>\n",
       "    </tr>\n",
       "  </thead>\n",
       "  <tbody>\n",
       "    <tr>\n",
       "      <th>0</th>\n",
       "      <td>/kaggle/input/skin-cancer-malignant-vs-benign/...</td>\n",
       "      <td>0</td>\n",
       "      <td>DS</td>\n",
       "      <td>1</td>\n",
       "    </tr>\n",
       "    <tr>\n",
       "      <th>1</th>\n",
       "      <td>/kaggle/input/skin-cancer-malignant-vs-benign/...</td>\n",
       "      <td>0</td>\n",
       "      <td>DS</td>\n",
       "      <td>1</td>\n",
       "    </tr>\n",
       "    <tr>\n",
       "      <th>2</th>\n",
       "      <td>/kaggle/input/skin-cancer-malignant-vs-benign/...</td>\n",
       "      <td>0</td>\n",
       "      <td>DS</td>\n",
       "      <td>1</td>\n",
       "    </tr>\n",
       "    <tr>\n",
       "      <th>3</th>\n",
       "      <td>/kaggle/input/skin-cancer-malignant-vs-benign/...</td>\n",
       "      <td>0</td>\n",
       "      <td>DS</td>\n",
       "      <td>1</td>\n",
       "    </tr>\n",
       "    <tr>\n",
       "      <th>4</th>\n",
       "      <td>/kaggle/input/skin-cancer-malignant-vs-benign/...</td>\n",
       "      <td>0</td>\n",
       "      <td>DS</td>\n",
       "      <td>1</td>\n",
       "    </tr>\n",
       "  </tbody>\n",
       "</table>\n",
       "</div>"
      ],
      "text/plain": [
       "                                                  id  target patient_id  isic\n",
       "0  /kaggle/input/skin-cancer-malignant-vs-benign/...       0         DS     1\n",
       "1  /kaggle/input/skin-cancer-malignant-vs-benign/...       0         DS     1\n",
       "2  /kaggle/input/skin-cancer-malignant-vs-benign/...       0         DS     1\n",
       "3  /kaggle/input/skin-cancer-malignant-vs-benign/...       0         DS     1\n",
       "4  /kaggle/input/skin-cancer-malignant-vs-benign/...       0         DS     1"
      ]
     },
     "execution_count": 8,
     "metadata": {},
     "output_type": "execute_result"
    }
   ],
   "source": [
    "list_tr_b = [os.path.join(TRAIN_B_DIR, l) for l in os.listdir(TRAIN_B_DIR)]\n",
    "list_tr_m = [os.path.join(TRAIN_M_DIR, l) for l in os.listdir(TRAIN_M_DIR)]\n",
    "list_te_b = [os.path.join(VALID_B_DIR, l) for l in os.listdir(VALID_B_DIR)]\n",
    "list_te_m = [os.path.join(VALID_M_DIR, l) for l in os.listdir(VALID_M_DIR)]\n",
    "\n",
    "list_file_name = list_tr_b + list_tr_m + list_te_b + list_te_m\n",
    "list_target = [0 for i in range(len(list_tr_b))] + [1 for i in range(len(list_tr_m))] + [0 for i in range(len(list_te_b))] + [1 for i in range(len(list_te_m))]\n",
    "list_patient = 'DS'\n",
    "\n",
    "df_DS = pd.DataFrame({'id':list_file_name, 'target':list_target, 'patient_id':list_patient})\n",
    "df_DS['isic'] = 1\n",
    "\n",
    "print(\"       df.shape, # of positive cases, # of patients\")\n",
    "print(\"original>\", df_DS.shape, df_DS.target.sum(), df_DS[\"patient_id\"].unique().shape)\n",
    "\n",
    "df_DS.head()"
   ]
  },
  {
   "cell_type": "code",
   "execution_count": 9,
   "id": "27de839f",
   "metadata": {
    "execution": {
     "iopub.execute_input": "2024-08-27T03:27:34.517480Z",
     "iopub.status.busy": "2024-08-27T03:27:34.517188Z",
     "iopub.status.idle": "2024-08-27T03:27:34.539497Z",
     "shell.execute_reply": "2024-08-27T03:27:34.538621Z"
    },
    "papermill": {
     "duration": 0.03464,
     "end_time": "2024-08-27T03:27:34.541457",
     "exception": false,
     "start_time": "2024-08-27T03:27:34.506817",
     "status": "completed"
    },
    "tags": []
   },
   "outputs": [
    {
     "name": "stdout",
     "output_type": "stream",
     "text": [
      "       df.shape, # of positive cases, # of patients\n",
      "original> (2637, 4) 1197 (1,)\n"
     ]
    },
    {
     "data": {
      "text/html": [
       "<div>\n",
       "<style scoped>\n",
       "    .dataframe tbody tr th:only-of-type {\n",
       "        vertical-align: middle;\n",
       "    }\n",
       "\n",
       "    .dataframe tbody tr th {\n",
       "        vertical-align: top;\n",
       "    }\n",
       "\n",
       "    .dataframe thead th {\n",
       "        text-align: right;\n",
       "    }\n",
       "</style>\n",
       "<table border=\"1\" class=\"dataframe\">\n",
       "  <thead>\n",
       "    <tr style=\"text-align: right;\">\n",
       "      <th></th>\n",
       "      <th>id</th>\n",
       "      <th>target</th>\n",
       "      <th>patient_id</th>\n",
       "      <th>isic</th>\n",
       "    </tr>\n",
       "  </thead>\n",
       "  <tbody>\n",
       "    <tr>\n",
       "      <th>0</th>\n",
       "      <td>/kaggle/input/skin-cancer-malignant-vs-benign/...</td>\n",
       "      <td>0</td>\n",
       "      <td>HAM</td>\n",
       "      <td>1</td>\n",
       "    </tr>\n",
       "    <tr>\n",
       "      <th>1</th>\n",
       "      <td>/kaggle/input/skin-cancer-malignant-vs-benign/...</td>\n",
       "      <td>0</td>\n",
       "      <td>HAM</td>\n",
       "      <td>1</td>\n",
       "    </tr>\n",
       "    <tr>\n",
       "      <th>2</th>\n",
       "      <td>/kaggle/input/skin-cancer-malignant-vs-benign/...</td>\n",
       "      <td>0</td>\n",
       "      <td>HAM</td>\n",
       "      <td>1</td>\n",
       "    </tr>\n",
       "    <tr>\n",
       "      <th>3</th>\n",
       "      <td>/kaggle/input/skin-cancer-malignant-vs-benign/...</td>\n",
       "      <td>0</td>\n",
       "      <td>HAM</td>\n",
       "      <td>1</td>\n",
       "    </tr>\n",
       "    <tr>\n",
       "      <th>4</th>\n",
       "      <td>/kaggle/input/skin-cancer-malignant-vs-benign/...</td>\n",
       "      <td>0</td>\n",
       "      <td>HAM</td>\n",
       "      <td>1</td>\n",
       "    </tr>\n",
       "  </tbody>\n",
       "</table>\n",
       "</div>"
      ],
      "text/plain": [
       "                                                  id  target patient_id  isic\n",
       "0  /kaggle/input/skin-cancer-malignant-vs-benign/...       0        HAM     1\n",
       "1  /kaggle/input/skin-cancer-malignant-vs-benign/...       0        HAM     1\n",
       "2  /kaggle/input/skin-cancer-malignant-vs-benign/...       0        HAM     1\n",
       "3  /kaggle/input/skin-cancer-malignant-vs-benign/...       0        HAM     1\n",
       "4  /kaggle/input/skin-cancer-malignant-vs-benign/...       0        HAM     1"
      ]
     },
     "execution_count": 9,
     "metadata": {},
     "output_type": "execute_result"
    }
   ],
   "source": [
    "list_h_b = [os.path.join(HAM_B_DIR, l) for l in os.listdir(HAM_B_DIR)]\n",
    "list_h_m = [os.path.join(HAM_M_DIR, l) for l in os.listdir(HAM_M_DIR)]\n",
    "\n",
    "list_file_name = list_h_b + list_h_m\n",
    "list_target = [0 for i in range(len(list_h_b))] + [1 for i in range(len(list_h_m))]\n",
    "list_patient = 'HAM'\n",
    "\n",
    "df_HAM = pd.DataFrame({'id':list_file_name, 'target':list_target, 'patient_id':list_patient})\n",
    "df_HAM['isic'] = 1\n",
    "\n",
    "print(\"       df.shape, # of positive cases, # of patients\")\n",
    "print(\"original>\", df_HAM.shape, df_HAM.target.sum(), df_HAM[\"patient_id\"].unique().shape)\n",
    "\n",
    "df_HAM.head()"
   ]
  },
  {
   "cell_type": "code",
   "execution_count": 10,
   "id": "bdbdf4de",
   "metadata": {
    "execution": {
     "iopub.execute_input": "2024-08-27T03:27:34.562528Z",
     "iopub.status.busy": "2024-08-27T03:27:34.562010Z",
     "iopub.status.idle": "2024-08-27T03:27:34.672521Z",
     "shell.execute_reply": "2024-08-27T03:27:34.671615Z"
    },
    "papermill": {
     "duration": 0.123301,
     "end_time": "2024-08-27T03:27:34.674594",
     "exception": false,
     "start_time": "2024-08-27T03:27:34.551293",
     "status": "completed"
    },
    "tags": []
   },
   "outputs": [
    {
     "name": "stdout",
     "output_type": "stream",
     "text": [
      "filtered> (64827, 4) 3087 (1034,)\n"
     ]
    }
   ],
   "source": [
    "df = pd.concat([df_ISIC, df_DS, df_HAM]).reset_index(drop=True)\n",
    "\n",
    "df_positive = df[df[\"target\"] == 1].reset_index(drop=True)\n",
    "df_negative = df[df[\"target\"] == 0].reset_index(drop=True)\n",
    "\n",
    "# Data ratio -> positive:negative = 1:25\n",
    "df = pd.concat([df_positive, df_negative.iloc[:df_positive.shape[0]*20, :]])  \n",
    "df = df.reset_index(drop=True)\n",
    "print(\"filtered>\", df.shape, df.target.sum(), df[\"patient_id\"].unique().shape)"
   ]
  },
  {
   "cell_type": "code",
   "execution_count": 11,
   "id": "75a2f091",
   "metadata": {
    "execution": {
     "iopub.execute_input": "2024-08-27T03:27:34.696213Z",
     "iopub.status.busy": "2024-08-27T03:27:34.695871Z",
     "iopub.status.idle": "2024-08-27T03:27:34.701267Z",
     "shell.execute_reply": "2024-08-27T03:27:34.700359Z"
    },
    "papermill": {
     "duration": 0.018534,
     "end_time": "2024-08-27T03:27:34.703182",
     "exception": false,
     "start_time": "2024-08-27T03:27:34.684648",
     "status": "completed"
    },
    "tags": []
   },
   "outputs": [
    {
     "name": "stdout",
     "output_type": "stream",
     "text": [
      "81033\n"
     ]
    }
   ],
   "source": [
    "CONFIG['T_max'] = df.shape[0] * (CONFIG['n_fold']-1) * CONFIG['epochs'] \\\n",
    "// CONFIG['train_batch_size'] // CONFIG['n_fold']\n",
    "\n",
    "print(CONFIG['T_max'])"
   ]
  },
  {
   "cell_type": "markdown",
   "id": "fba80a36",
   "metadata": {
    "papermill": {
     "duration": 0.009647,
     "end_time": "2024-08-27T03:27:34.722751",
     "exception": false,
     "start_time": "2024-08-27T03:27:34.713104",
     "status": "completed"
    },
    "tags": []
   },
   "source": [
    "# Dataset Manipulation"
   ]
  },
  {
   "cell_type": "code",
   "execution_count": 12,
   "id": "a1d6dd0a",
   "metadata": {
    "execution": {
     "iopub.execute_input": "2024-08-27T03:27:34.744875Z",
     "iopub.status.busy": "2024-08-27T03:27:34.743892Z",
     "iopub.status.idle": "2024-08-27T03:27:34.757007Z",
     "shell.execute_reply": "2024-08-27T03:27:34.756171Z"
    },
    "papermill": {
     "duration": 0.026066,
     "end_time": "2024-08-27T03:27:34.758891",
     "exception": false,
     "start_time": "2024-08-27T03:27:34.732825",
     "status": "completed"
    },
    "tags": []
   },
   "outputs": [],
   "source": [
    "# Dataset\n",
    "class CustomDataset(Dataset):\n",
    "    def __init__(self, dataframe, file_path, transforms=None, is_training=True):\n",
    "        self.df = dataframe\n",
    "        self.file_path = h5py.File(file_path, mode=\"r\")\n",
    "        self.transforms = transforms\n",
    "        self.is_training = is_training\n",
    "        self.df_positive = self.df[self.df['target'] == 1].reset_index()\n",
    "        self.df_negative = self.df[self.df['target'] == 0].reset_index()\n",
    "        self.ids_positive = self.df_positive['id'].values\n",
    "        self.ids_negative = self.df_negative['id'].values\n",
    "        self.targets_positive = self.df_positive['target'].values\n",
    "        self.targets_negative = self.df_negative['target'].values\n",
    "        self.isic_positive = self.df_positive['isic'].values\n",
    "        self.isic_negative = self.df_negative['isic'].values\n",
    "\n",
    "    def __len__(self):\n",
    "        return len(self.df_positive) * 2 if self.is_training else len(self.df)\n",
    "\n",
    "    def __getitem__(self, idx):\n",
    "        if self.is_training:\n",
    "            is_positive = random.random() >= 0.5\n",
    "            df_subset = self.df_positive if is_positive else self.df_negative\n",
    "            ids = self.ids_positive if is_positive else self.ids_negative\n",
    "            targets = self.targets_positive if is_positive else self.targets_negative\n",
    "            isic = self.isic_positive if is_positive else self.isic_negative\n",
    "            idx = idx % len(df_subset)\n",
    "            target = targets[idx]\n",
    "            id = ids[idx]\n",
    "            isic = isic[idx]\n",
    "        else:\n",
    "            row = self.df.iloc[idx]\n",
    "            target = row['target']\n",
    "            id = row['id']\n",
    "            isic = row['isic']\n",
    "        \n",
    "        if isic == 0:\n",
    "            image = np.array(Image.open(BytesIO(self.file_path[id][()])))\n",
    "            image = cv2.cvtColor(image, cv2.COLOR_BGR2RGB)\n",
    "        else:\n",
    "            image = np.array(Image.open(id))\n",
    "            image = cv2.cvtColor(image, cv2.COLOR_BGR2RGB)\n",
    "            \n",
    "        if self.transforms:\n",
    "            image = self.transforms(image=image)[\"image\"]\n",
    "        \n",
    "        return {'image': image, 'target': target}"
   ]
  },
  {
   "cell_type": "markdown",
   "id": "bcd1a9d5",
   "metadata": {
    "papermill": {
     "duration": 0.009924,
     "end_time": "2024-08-27T03:27:34.778697",
     "exception": false,
     "start_time": "2024-08-27T03:27:34.768773",
     "status": "completed"
    },
    "tags": []
   },
   "source": [
    "# Modeling"
   ]
  },
  {
   "cell_type": "code",
   "execution_count": 13,
   "id": "286e32fe",
   "metadata": {
    "execution": {
     "iopub.execute_input": "2024-08-27T03:27:34.800136Z",
     "iopub.status.busy": "2024-08-27T03:27:34.799801Z",
     "iopub.status.idle": "2024-08-27T03:27:41.521095Z",
     "shell.execute_reply": "2024-08-27T03:27:41.520177Z"
    },
    "papermill": {
     "duration": 6.734927,
     "end_time": "2024-08-27T03:27:41.523746",
     "exception": false,
     "start_time": "2024-08-27T03:27:34.788819",
     "status": "completed"
    },
    "tags": []
   },
   "outputs": [
    {
     "data": {
      "application/vnd.jupyter.widget-view+json": {
       "model_id": "e9b124bb90494b7d989e9cb7f4dd2c4e",
       "version_major": 2,
       "version_minor": 0
      },
      "text/plain": [
       "model.safetensors:   0%|          | 0.00/788M [00:00<?, ?B/s]"
      ]
     },
     "metadata": {},
     "output_type": "display_data"
    },
    {
     "data": {
      "text/plain": [
       "CustomISICModel(\n",
       "  (image_model): SwinTransformer(\n",
       "    (patch_embed): PatchEmbed(\n",
       "      (proj): Conv2d(3, 192, kernel_size=(4, 4), stride=(4, 4))\n",
       "      (norm): LayerNorm((192,), eps=1e-05, elementwise_affine=True)\n",
       "    )\n",
       "    (layers): Sequential(\n",
       "      (0): SwinTransformerStage(\n",
       "        (downsample): Identity()\n",
       "        (blocks): Sequential(\n",
       "          (0): SwinTransformerBlock(\n",
       "            (norm1): LayerNorm((192,), eps=1e-05, elementwise_affine=True)\n",
       "            (attn): WindowAttention(\n",
       "              (qkv): Linear(in_features=192, out_features=576, bias=True)\n",
       "              (attn_drop): Dropout(p=0.0, inplace=False)\n",
       "              (proj): Linear(in_features=192, out_features=192, bias=True)\n",
       "              (proj_drop): Dropout(p=0.0, inplace=False)\n",
       "              (softmax): Softmax(dim=-1)\n",
       "            )\n",
       "            (drop_path1): Identity()\n",
       "            (norm2): LayerNorm((192,), eps=1e-05, elementwise_affine=True)\n",
       "            (mlp): Mlp(\n",
       "              (fc1): Linear(in_features=192, out_features=768, bias=True)\n",
       "              (act): GELU(approximate='none')\n",
       "              (drop1): Dropout(p=0.0, inplace=False)\n",
       "              (norm): Identity()\n",
       "              (fc2): Linear(in_features=768, out_features=192, bias=True)\n",
       "              (drop2): Dropout(p=0.0, inplace=False)\n",
       "            )\n",
       "            (drop_path2): Identity()\n",
       "          )\n",
       "          (1): SwinTransformerBlock(\n",
       "            (norm1): LayerNorm((192,), eps=1e-05, elementwise_affine=True)\n",
       "            (attn): WindowAttention(\n",
       "              (qkv): Linear(in_features=192, out_features=576, bias=True)\n",
       "              (attn_drop): Dropout(p=0.0, inplace=False)\n",
       "              (proj): Linear(in_features=192, out_features=192, bias=True)\n",
       "              (proj_drop): Dropout(p=0.0, inplace=False)\n",
       "              (softmax): Softmax(dim=-1)\n",
       "            )\n",
       "            (drop_path1): DropPath(drop_prob=0.004)\n",
       "            (norm2): LayerNorm((192,), eps=1e-05, elementwise_affine=True)\n",
       "            (mlp): Mlp(\n",
       "              (fc1): Linear(in_features=192, out_features=768, bias=True)\n",
       "              (act): GELU(approximate='none')\n",
       "              (drop1): Dropout(p=0.0, inplace=False)\n",
       "              (norm): Identity()\n",
       "              (fc2): Linear(in_features=768, out_features=192, bias=True)\n",
       "              (drop2): Dropout(p=0.0, inplace=False)\n",
       "            )\n",
       "            (drop_path2): DropPath(drop_prob=0.004)\n",
       "          )\n",
       "        )\n",
       "      )\n",
       "      (1): SwinTransformerStage(\n",
       "        (downsample): PatchMerging(\n",
       "          (norm): LayerNorm((768,), eps=1e-05, elementwise_affine=True)\n",
       "          (reduction): Linear(in_features=768, out_features=384, bias=False)\n",
       "        )\n",
       "        (blocks): Sequential(\n",
       "          (0): SwinTransformerBlock(\n",
       "            (norm1): LayerNorm((384,), eps=1e-05, elementwise_affine=True)\n",
       "            (attn): WindowAttention(\n",
       "              (qkv): Linear(in_features=384, out_features=1152, bias=True)\n",
       "              (attn_drop): Dropout(p=0.0, inplace=False)\n",
       "              (proj): Linear(in_features=384, out_features=384, bias=True)\n",
       "              (proj_drop): Dropout(p=0.0, inplace=False)\n",
       "              (softmax): Softmax(dim=-1)\n",
       "            )\n",
       "            (drop_path1): DropPath(drop_prob=0.009)\n",
       "            (norm2): LayerNorm((384,), eps=1e-05, elementwise_affine=True)\n",
       "            (mlp): Mlp(\n",
       "              (fc1): Linear(in_features=384, out_features=1536, bias=True)\n",
       "              (act): GELU(approximate='none')\n",
       "              (drop1): Dropout(p=0.0, inplace=False)\n",
       "              (norm): Identity()\n",
       "              (fc2): Linear(in_features=1536, out_features=384, bias=True)\n",
       "              (drop2): Dropout(p=0.0, inplace=False)\n",
       "            )\n",
       "            (drop_path2): DropPath(drop_prob=0.009)\n",
       "          )\n",
       "          (1): SwinTransformerBlock(\n",
       "            (norm1): LayerNorm((384,), eps=1e-05, elementwise_affine=True)\n",
       "            (attn): WindowAttention(\n",
       "              (qkv): Linear(in_features=384, out_features=1152, bias=True)\n",
       "              (attn_drop): Dropout(p=0.0, inplace=False)\n",
       "              (proj): Linear(in_features=384, out_features=384, bias=True)\n",
       "              (proj_drop): Dropout(p=0.0, inplace=False)\n",
       "              (softmax): Softmax(dim=-1)\n",
       "            )\n",
       "            (drop_path1): DropPath(drop_prob=0.013)\n",
       "            (norm2): LayerNorm((384,), eps=1e-05, elementwise_affine=True)\n",
       "            (mlp): Mlp(\n",
       "              (fc1): Linear(in_features=384, out_features=1536, bias=True)\n",
       "              (act): GELU(approximate='none')\n",
       "              (drop1): Dropout(p=0.0, inplace=False)\n",
       "              (norm): Identity()\n",
       "              (fc2): Linear(in_features=1536, out_features=384, bias=True)\n",
       "              (drop2): Dropout(p=0.0, inplace=False)\n",
       "            )\n",
       "            (drop_path2): DropPath(drop_prob=0.013)\n",
       "          )\n",
       "        )\n",
       "      )\n",
       "      (2): SwinTransformerStage(\n",
       "        (downsample): PatchMerging(\n",
       "          (norm): LayerNorm((1536,), eps=1e-05, elementwise_affine=True)\n",
       "          (reduction): Linear(in_features=1536, out_features=768, bias=False)\n",
       "        )\n",
       "        (blocks): Sequential(\n",
       "          (0): SwinTransformerBlock(\n",
       "            (norm1): LayerNorm((768,), eps=1e-05, elementwise_affine=True)\n",
       "            (attn): WindowAttention(\n",
       "              (qkv): Linear(in_features=768, out_features=2304, bias=True)\n",
       "              (attn_drop): Dropout(p=0.0, inplace=False)\n",
       "              (proj): Linear(in_features=768, out_features=768, bias=True)\n",
       "              (proj_drop): Dropout(p=0.0, inplace=False)\n",
       "              (softmax): Softmax(dim=-1)\n",
       "            )\n",
       "            (drop_path1): DropPath(drop_prob=0.017)\n",
       "            (norm2): LayerNorm((768,), eps=1e-05, elementwise_affine=True)\n",
       "            (mlp): Mlp(\n",
       "              (fc1): Linear(in_features=768, out_features=3072, bias=True)\n",
       "              (act): GELU(approximate='none')\n",
       "              (drop1): Dropout(p=0.0, inplace=False)\n",
       "              (norm): Identity()\n",
       "              (fc2): Linear(in_features=3072, out_features=768, bias=True)\n",
       "              (drop2): Dropout(p=0.0, inplace=False)\n",
       "            )\n",
       "            (drop_path2): DropPath(drop_prob=0.017)\n",
       "          )\n",
       "          (1): SwinTransformerBlock(\n",
       "            (norm1): LayerNorm((768,), eps=1e-05, elementwise_affine=True)\n",
       "            (attn): WindowAttention(\n",
       "              (qkv): Linear(in_features=768, out_features=2304, bias=True)\n",
       "              (attn_drop): Dropout(p=0.0, inplace=False)\n",
       "              (proj): Linear(in_features=768, out_features=768, bias=True)\n",
       "              (proj_drop): Dropout(p=0.0, inplace=False)\n",
       "              (softmax): Softmax(dim=-1)\n",
       "            )\n",
       "            (drop_path1): DropPath(drop_prob=0.022)\n",
       "            (norm2): LayerNorm((768,), eps=1e-05, elementwise_affine=True)\n",
       "            (mlp): Mlp(\n",
       "              (fc1): Linear(in_features=768, out_features=3072, bias=True)\n",
       "              (act): GELU(approximate='none')\n",
       "              (drop1): Dropout(p=0.0, inplace=False)\n",
       "              (norm): Identity()\n",
       "              (fc2): Linear(in_features=3072, out_features=768, bias=True)\n",
       "              (drop2): Dropout(p=0.0, inplace=False)\n",
       "            )\n",
       "            (drop_path2): DropPath(drop_prob=0.022)\n",
       "          )\n",
       "          (2): SwinTransformerBlock(\n",
       "            (norm1): LayerNorm((768,), eps=1e-05, elementwise_affine=True)\n",
       "            (attn): WindowAttention(\n",
       "              (qkv): Linear(in_features=768, out_features=2304, bias=True)\n",
       "              (attn_drop): Dropout(p=0.0, inplace=False)\n",
       "              (proj): Linear(in_features=768, out_features=768, bias=True)\n",
       "              (proj_drop): Dropout(p=0.0, inplace=False)\n",
       "              (softmax): Softmax(dim=-1)\n",
       "            )\n",
       "            (drop_path1): DropPath(drop_prob=0.026)\n",
       "            (norm2): LayerNorm((768,), eps=1e-05, elementwise_affine=True)\n",
       "            (mlp): Mlp(\n",
       "              (fc1): Linear(in_features=768, out_features=3072, bias=True)\n",
       "              (act): GELU(approximate='none')\n",
       "              (drop1): Dropout(p=0.0, inplace=False)\n",
       "              (norm): Identity()\n",
       "              (fc2): Linear(in_features=3072, out_features=768, bias=True)\n",
       "              (drop2): Dropout(p=0.0, inplace=False)\n",
       "            )\n",
       "            (drop_path2): DropPath(drop_prob=0.026)\n",
       "          )\n",
       "          (3): SwinTransformerBlock(\n",
       "            (norm1): LayerNorm((768,), eps=1e-05, elementwise_affine=True)\n",
       "            (attn): WindowAttention(\n",
       "              (qkv): Linear(in_features=768, out_features=2304, bias=True)\n",
       "              (attn_drop): Dropout(p=0.0, inplace=False)\n",
       "              (proj): Linear(in_features=768, out_features=768, bias=True)\n",
       "              (proj_drop): Dropout(p=0.0, inplace=False)\n",
       "              (softmax): Softmax(dim=-1)\n",
       "            )\n",
       "            (drop_path1): DropPath(drop_prob=0.030)\n",
       "            (norm2): LayerNorm((768,), eps=1e-05, elementwise_affine=True)\n",
       "            (mlp): Mlp(\n",
       "              (fc1): Linear(in_features=768, out_features=3072, bias=True)\n",
       "              (act): GELU(approximate='none')\n",
       "              (drop1): Dropout(p=0.0, inplace=False)\n",
       "              (norm): Identity()\n",
       "              (fc2): Linear(in_features=3072, out_features=768, bias=True)\n",
       "              (drop2): Dropout(p=0.0, inplace=False)\n",
       "            )\n",
       "            (drop_path2): DropPath(drop_prob=0.030)\n",
       "          )\n",
       "          (4): SwinTransformerBlock(\n",
       "            (norm1): LayerNorm((768,), eps=1e-05, elementwise_affine=True)\n",
       "            (attn): WindowAttention(\n",
       "              (qkv): Linear(in_features=768, out_features=2304, bias=True)\n",
       "              (attn_drop): Dropout(p=0.0, inplace=False)\n",
       "              (proj): Linear(in_features=768, out_features=768, bias=True)\n",
       "              (proj_drop): Dropout(p=0.0, inplace=False)\n",
       "              (softmax): Softmax(dim=-1)\n",
       "            )\n",
       "            (drop_path1): DropPath(drop_prob=0.035)\n",
       "            (norm2): LayerNorm((768,), eps=1e-05, elementwise_affine=True)\n",
       "            (mlp): Mlp(\n",
       "              (fc1): Linear(in_features=768, out_features=3072, bias=True)\n",
       "              (act): GELU(approximate='none')\n",
       "              (drop1): Dropout(p=0.0, inplace=False)\n",
       "              (norm): Identity()\n",
       "              (fc2): Linear(in_features=3072, out_features=768, bias=True)\n",
       "              (drop2): Dropout(p=0.0, inplace=False)\n",
       "            )\n",
       "            (drop_path2): DropPath(drop_prob=0.035)\n",
       "          )\n",
       "          (5): SwinTransformerBlock(\n",
       "            (norm1): LayerNorm((768,), eps=1e-05, elementwise_affine=True)\n",
       "            (attn): WindowAttention(\n",
       "              (qkv): Linear(in_features=768, out_features=2304, bias=True)\n",
       "              (attn_drop): Dropout(p=0.0, inplace=False)\n",
       "              (proj): Linear(in_features=768, out_features=768, bias=True)\n",
       "              (proj_drop): Dropout(p=0.0, inplace=False)\n",
       "              (softmax): Softmax(dim=-1)\n",
       "            )\n",
       "            (drop_path1): DropPath(drop_prob=0.039)\n",
       "            (norm2): LayerNorm((768,), eps=1e-05, elementwise_affine=True)\n",
       "            (mlp): Mlp(\n",
       "              (fc1): Linear(in_features=768, out_features=3072, bias=True)\n",
       "              (act): GELU(approximate='none')\n",
       "              (drop1): Dropout(p=0.0, inplace=False)\n",
       "              (norm): Identity()\n",
       "              (fc2): Linear(in_features=3072, out_features=768, bias=True)\n",
       "              (drop2): Dropout(p=0.0, inplace=False)\n",
       "            )\n",
       "            (drop_path2): DropPath(drop_prob=0.039)\n",
       "          )\n",
       "          (6): SwinTransformerBlock(\n",
       "            (norm1): LayerNorm((768,), eps=1e-05, elementwise_affine=True)\n",
       "            (attn): WindowAttention(\n",
       "              (qkv): Linear(in_features=768, out_features=2304, bias=True)\n",
       "              (attn_drop): Dropout(p=0.0, inplace=False)\n",
       "              (proj): Linear(in_features=768, out_features=768, bias=True)\n",
       "              (proj_drop): Dropout(p=0.0, inplace=False)\n",
       "              (softmax): Softmax(dim=-1)\n",
       "            )\n",
       "            (drop_path1): DropPath(drop_prob=0.043)\n",
       "            (norm2): LayerNorm((768,), eps=1e-05, elementwise_affine=True)\n",
       "            (mlp): Mlp(\n",
       "              (fc1): Linear(in_features=768, out_features=3072, bias=True)\n",
       "              (act): GELU(approximate='none')\n",
       "              (drop1): Dropout(p=0.0, inplace=False)\n",
       "              (norm): Identity()\n",
       "              (fc2): Linear(in_features=3072, out_features=768, bias=True)\n",
       "              (drop2): Dropout(p=0.0, inplace=False)\n",
       "            )\n",
       "            (drop_path2): DropPath(drop_prob=0.043)\n",
       "          )\n",
       "          (7): SwinTransformerBlock(\n",
       "            (norm1): LayerNorm((768,), eps=1e-05, elementwise_affine=True)\n",
       "            (attn): WindowAttention(\n",
       "              (qkv): Linear(in_features=768, out_features=2304, bias=True)\n",
       "              (attn_drop): Dropout(p=0.0, inplace=False)\n",
       "              (proj): Linear(in_features=768, out_features=768, bias=True)\n",
       "              (proj_drop): Dropout(p=0.0, inplace=False)\n",
       "              (softmax): Softmax(dim=-1)\n",
       "            )\n",
       "            (drop_path1): DropPath(drop_prob=0.048)\n",
       "            (norm2): LayerNorm((768,), eps=1e-05, elementwise_affine=True)\n",
       "            (mlp): Mlp(\n",
       "              (fc1): Linear(in_features=768, out_features=3072, bias=True)\n",
       "              (act): GELU(approximate='none')\n",
       "              (drop1): Dropout(p=0.0, inplace=False)\n",
       "              (norm): Identity()\n",
       "              (fc2): Linear(in_features=3072, out_features=768, bias=True)\n",
       "              (drop2): Dropout(p=0.0, inplace=False)\n",
       "            )\n",
       "            (drop_path2): DropPath(drop_prob=0.048)\n",
       "          )\n",
       "          (8): SwinTransformerBlock(\n",
       "            (norm1): LayerNorm((768,), eps=1e-05, elementwise_affine=True)\n",
       "            (attn): WindowAttention(\n",
       "              (qkv): Linear(in_features=768, out_features=2304, bias=True)\n",
       "              (attn_drop): Dropout(p=0.0, inplace=False)\n",
       "              (proj): Linear(in_features=768, out_features=768, bias=True)\n",
       "              (proj_drop): Dropout(p=0.0, inplace=False)\n",
       "              (softmax): Softmax(dim=-1)\n",
       "            )\n",
       "            (drop_path1): DropPath(drop_prob=0.052)\n",
       "            (norm2): LayerNorm((768,), eps=1e-05, elementwise_affine=True)\n",
       "            (mlp): Mlp(\n",
       "              (fc1): Linear(in_features=768, out_features=3072, bias=True)\n",
       "              (act): GELU(approximate='none')\n",
       "              (drop1): Dropout(p=0.0, inplace=False)\n",
       "              (norm): Identity()\n",
       "              (fc2): Linear(in_features=3072, out_features=768, bias=True)\n",
       "              (drop2): Dropout(p=0.0, inplace=False)\n",
       "            )\n",
       "            (drop_path2): DropPath(drop_prob=0.052)\n",
       "          )\n",
       "          (9): SwinTransformerBlock(\n",
       "            (norm1): LayerNorm((768,), eps=1e-05, elementwise_affine=True)\n",
       "            (attn): WindowAttention(\n",
       "              (qkv): Linear(in_features=768, out_features=2304, bias=True)\n",
       "              (attn_drop): Dropout(p=0.0, inplace=False)\n",
       "              (proj): Linear(in_features=768, out_features=768, bias=True)\n",
       "              (proj_drop): Dropout(p=0.0, inplace=False)\n",
       "              (softmax): Softmax(dim=-1)\n",
       "            )\n",
       "            (drop_path1): DropPath(drop_prob=0.057)\n",
       "            (norm2): LayerNorm((768,), eps=1e-05, elementwise_affine=True)\n",
       "            (mlp): Mlp(\n",
       "              (fc1): Linear(in_features=768, out_features=3072, bias=True)\n",
       "              (act): GELU(approximate='none')\n",
       "              (drop1): Dropout(p=0.0, inplace=False)\n",
       "              (norm): Identity()\n",
       "              (fc2): Linear(in_features=3072, out_features=768, bias=True)\n",
       "              (drop2): Dropout(p=0.0, inplace=False)\n",
       "            )\n",
       "            (drop_path2): DropPath(drop_prob=0.057)\n",
       "          )\n",
       "          (10): SwinTransformerBlock(\n",
       "            (norm1): LayerNorm((768,), eps=1e-05, elementwise_affine=True)\n",
       "            (attn): WindowAttention(\n",
       "              (qkv): Linear(in_features=768, out_features=2304, bias=True)\n",
       "              (attn_drop): Dropout(p=0.0, inplace=False)\n",
       "              (proj): Linear(in_features=768, out_features=768, bias=True)\n",
       "              (proj_drop): Dropout(p=0.0, inplace=False)\n",
       "              (softmax): Softmax(dim=-1)\n",
       "            )\n",
       "            (drop_path1): DropPath(drop_prob=0.061)\n",
       "            (norm2): LayerNorm((768,), eps=1e-05, elementwise_affine=True)\n",
       "            (mlp): Mlp(\n",
       "              (fc1): Linear(in_features=768, out_features=3072, bias=True)\n",
       "              (act): GELU(approximate='none')\n",
       "              (drop1): Dropout(p=0.0, inplace=False)\n",
       "              (norm): Identity()\n",
       "              (fc2): Linear(in_features=3072, out_features=768, bias=True)\n",
       "              (drop2): Dropout(p=0.0, inplace=False)\n",
       "            )\n",
       "            (drop_path2): DropPath(drop_prob=0.061)\n",
       "          )\n",
       "          (11): SwinTransformerBlock(\n",
       "            (norm1): LayerNorm((768,), eps=1e-05, elementwise_affine=True)\n",
       "            (attn): WindowAttention(\n",
       "              (qkv): Linear(in_features=768, out_features=2304, bias=True)\n",
       "              (attn_drop): Dropout(p=0.0, inplace=False)\n",
       "              (proj): Linear(in_features=768, out_features=768, bias=True)\n",
       "              (proj_drop): Dropout(p=0.0, inplace=False)\n",
       "              (softmax): Softmax(dim=-1)\n",
       "            )\n",
       "            (drop_path1): DropPath(drop_prob=0.065)\n",
       "            (norm2): LayerNorm((768,), eps=1e-05, elementwise_affine=True)\n",
       "            (mlp): Mlp(\n",
       "              (fc1): Linear(in_features=768, out_features=3072, bias=True)\n",
       "              (act): GELU(approximate='none')\n",
       "              (drop1): Dropout(p=0.0, inplace=False)\n",
       "              (norm): Identity()\n",
       "              (fc2): Linear(in_features=3072, out_features=768, bias=True)\n",
       "              (drop2): Dropout(p=0.0, inplace=False)\n",
       "            )\n",
       "            (drop_path2): DropPath(drop_prob=0.065)\n",
       "          )\n",
       "          (12): SwinTransformerBlock(\n",
       "            (norm1): LayerNorm((768,), eps=1e-05, elementwise_affine=True)\n",
       "            (attn): WindowAttention(\n",
       "              (qkv): Linear(in_features=768, out_features=2304, bias=True)\n",
       "              (attn_drop): Dropout(p=0.0, inplace=False)\n",
       "              (proj): Linear(in_features=768, out_features=768, bias=True)\n",
       "              (proj_drop): Dropout(p=0.0, inplace=False)\n",
       "              (softmax): Softmax(dim=-1)\n",
       "            )\n",
       "            (drop_path1): DropPath(drop_prob=0.070)\n",
       "            (norm2): LayerNorm((768,), eps=1e-05, elementwise_affine=True)\n",
       "            (mlp): Mlp(\n",
       "              (fc1): Linear(in_features=768, out_features=3072, bias=True)\n",
       "              (act): GELU(approximate='none')\n",
       "              (drop1): Dropout(p=0.0, inplace=False)\n",
       "              (norm): Identity()\n",
       "              (fc2): Linear(in_features=3072, out_features=768, bias=True)\n",
       "              (drop2): Dropout(p=0.0, inplace=False)\n",
       "            )\n",
       "            (drop_path2): DropPath(drop_prob=0.070)\n",
       "          )\n",
       "          (13): SwinTransformerBlock(\n",
       "            (norm1): LayerNorm((768,), eps=1e-05, elementwise_affine=True)\n",
       "            (attn): WindowAttention(\n",
       "              (qkv): Linear(in_features=768, out_features=2304, bias=True)\n",
       "              (attn_drop): Dropout(p=0.0, inplace=False)\n",
       "              (proj): Linear(in_features=768, out_features=768, bias=True)\n",
       "              (proj_drop): Dropout(p=0.0, inplace=False)\n",
       "              (softmax): Softmax(dim=-1)\n",
       "            )\n",
       "            (drop_path1): DropPath(drop_prob=0.074)\n",
       "            (norm2): LayerNorm((768,), eps=1e-05, elementwise_affine=True)\n",
       "            (mlp): Mlp(\n",
       "              (fc1): Linear(in_features=768, out_features=3072, bias=True)\n",
       "              (act): GELU(approximate='none')\n",
       "              (drop1): Dropout(p=0.0, inplace=False)\n",
       "              (norm): Identity()\n",
       "              (fc2): Linear(in_features=3072, out_features=768, bias=True)\n",
       "              (drop2): Dropout(p=0.0, inplace=False)\n",
       "            )\n",
       "            (drop_path2): DropPath(drop_prob=0.074)\n",
       "          )\n",
       "          (14): SwinTransformerBlock(\n",
       "            (norm1): LayerNorm((768,), eps=1e-05, elementwise_affine=True)\n",
       "            (attn): WindowAttention(\n",
       "              (qkv): Linear(in_features=768, out_features=2304, bias=True)\n",
       "              (attn_drop): Dropout(p=0.0, inplace=False)\n",
       "              (proj): Linear(in_features=768, out_features=768, bias=True)\n",
       "              (proj_drop): Dropout(p=0.0, inplace=False)\n",
       "              (softmax): Softmax(dim=-1)\n",
       "            )\n",
       "            (drop_path1): DropPath(drop_prob=0.078)\n",
       "            (norm2): LayerNorm((768,), eps=1e-05, elementwise_affine=True)\n",
       "            (mlp): Mlp(\n",
       "              (fc1): Linear(in_features=768, out_features=3072, bias=True)\n",
       "              (act): GELU(approximate='none')\n",
       "              (drop1): Dropout(p=0.0, inplace=False)\n",
       "              (norm): Identity()\n",
       "              (fc2): Linear(in_features=3072, out_features=768, bias=True)\n",
       "              (drop2): Dropout(p=0.0, inplace=False)\n",
       "            )\n",
       "            (drop_path2): DropPath(drop_prob=0.078)\n",
       "          )\n",
       "          (15): SwinTransformerBlock(\n",
       "            (norm1): LayerNorm((768,), eps=1e-05, elementwise_affine=True)\n",
       "            (attn): WindowAttention(\n",
       "              (qkv): Linear(in_features=768, out_features=2304, bias=True)\n",
       "              (attn_drop): Dropout(p=0.0, inplace=False)\n",
       "              (proj): Linear(in_features=768, out_features=768, bias=True)\n",
       "              (proj_drop): Dropout(p=0.0, inplace=False)\n",
       "              (softmax): Softmax(dim=-1)\n",
       "            )\n",
       "            (drop_path1): DropPath(drop_prob=0.083)\n",
       "            (norm2): LayerNorm((768,), eps=1e-05, elementwise_affine=True)\n",
       "            (mlp): Mlp(\n",
       "              (fc1): Linear(in_features=768, out_features=3072, bias=True)\n",
       "              (act): GELU(approximate='none')\n",
       "              (drop1): Dropout(p=0.0, inplace=False)\n",
       "              (norm): Identity()\n",
       "              (fc2): Linear(in_features=3072, out_features=768, bias=True)\n",
       "              (drop2): Dropout(p=0.0, inplace=False)\n",
       "            )\n",
       "            (drop_path2): DropPath(drop_prob=0.083)\n",
       "          )\n",
       "          (16): SwinTransformerBlock(\n",
       "            (norm1): LayerNorm((768,), eps=1e-05, elementwise_affine=True)\n",
       "            (attn): WindowAttention(\n",
       "              (qkv): Linear(in_features=768, out_features=2304, bias=True)\n",
       "              (attn_drop): Dropout(p=0.0, inplace=False)\n",
       "              (proj): Linear(in_features=768, out_features=768, bias=True)\n",
       "              (proj_drop): Dropout(p=0.0, inplace=False)\n",
       "              (softmax): Softmax(dim=-1)\n",
       "            )\n",
       "            (drop_path1): DropPath(drop_prob=0.087)\n",
       "            (norm2): LayerNorm((768,), eps=1e-05, elementwise_affine=True)\n",
       "            (mlp): Mlp(\n",
       "              (fc1): Linear(in_features=768, out_features=3072, bias=True)\n",
       "              (act): GELU(approximate='none')\n",
       "              (drop1): Dropout(p=0.0, inplace=False)\n",
       "              (norm): Identity()\n",
       "              (fc2): Linear(in_features=3072, out_features=768, bias=True)\n",
       "              (drop2): Dropout(p=0.0, inplace=False)\n",
       "            )\n",
       "            (drop_path2): DropPath(drop_prob=0.087)\n",
       "          )\n",
       "          (17): SwinTransformerBlock(\n",
       "            (norm1): LayerNorm((768,), eps=1e-05, elementwise_affine=True)\n",
       "            (attn): WindowAttention(\n",
       "              (qkv): Linear(in_features=768, out_features=2304, bias=True)\n",
       "              (attn_drop): Dropout(p=0.0, inplace=False)\n",
       "              (proj): Linear(in_features=768, out_features=768, bias=True)\n",
       "              (proj_drop): Dropout(p=0.0, inplace=False)\n",
       "              (softmax): Softmax(dim=-1)\n",
       "            )\n",
       "            (drop_path1): DropPath(drop_prob=0.091)\n",
       "            (norm2): LayerNorm((768,), eps=1e-05, elementwise_affine=True)\n",
       "            (mlp): Mlp(\n",
       "              (fc1): Linear(in_features=768, out_features=3072, bias=True)\n",
       "              (act): GELU(approximate='none')\n",
       "              (drop1): Dropout(p=0.0, inplace=False)\n",
       "              (norm): Identity()\n",
       "              (fc2): Linear(in_features=3072, out_features=768, bias=True)\n",
       "              (drop2): Dropout(p=0.0, inplace=False)\n",
       "            )\n",
       "            (drop_path2): DropPath(drop_prob=0.091)\n",
       "          )\n",
       "        )\n",
       "      )\n",
       "      (3): SwinTransformerStage(\n",
       "        (downsample): PatchMerging(\n",
       "          (norm): LayerNorm((3072,), eps=1e-05, elementwise_affine=True)\n",
       "          (reduction): Linear(in_features=3072, out_features=1536, bias=False)\n",
       "        )\n",
       "        (blocks): Sequential(\n",
       "          (0): SwinTransformerBlock(\n",
       "            (norm1): LayerNorm((1536,), eps=1e-05, elementwise_affine=True)\n",
       "            (attn): WindowAttention(\n",
       "              (qkv): Linear(in_features=1536, out_features=4608, bias=True)\n",
       "              (attn_drop): Dropout(p=0.0, inplace=False)\n",
       "              (proj): Linear(in_features=1536, out_features=1536, bias=True)\n",
       "              (proj_drop): Dropout(p=0.0, inplace=False)\n",
       "              (softmax): Softmax(dim=-1)\n",
       "            )\n",
       "            (drop_path1): DropPath(drop_prob=0.096)\n",
       "            (norm2): LayerNorm((1536,), eps=1e-05, elementwise_affine=True)\n",
       "            (mlp): Mlp(\n",
       "              (fc1): Linear(in_features=1536, out_features=6144, bias=True)\n",
       "              (act): GELU(approximate='none')\n",
       "              (drop1): Dropout(p=0.0, inplace=False)\n",
       "              (norm): Identity()\n",
       "              (fc2): Linear(in_features=6144, out_features=1536, bias=True)\n",
       "              (drop2): Dropout(p=0.0, inplace=False)\n",
       "            )\n",
       "            (drop_path2): DropPath(drop_prob=0.096)\n",
       "          )\n",
       "          (1): SwinTransformerBlock(\n",
       "            (norm1): LayerNorm((1536,), eps=1e-05, elementwise_affine=True)\n",
       "            (attn): WindowAttention(\n",
       "              (qkv): Linear(in_features=1536, out_features=4608, bias=True)\n",
       "              (attn_drop): Dropout(p=0.0, inplace=False)\n",
       "              (proj): Linear(in_features=1536, out_features=1536, bias=True)\n",
       "              (proj_drop): Dropout(p=0.0, inplace=False)\n",
       "              (softmax): Softmax(dim=-1)\n",
       "            )\n",
       "            (drop_path1): DropPath(drop_prob=0.100)\n",
       "            (norm2): LayerNorm((1536,), eps=1e-05, elementwise_affine=True)\n",
       "            (mlp): Mlp(\n",
       "              (fc1): Linear(in_features=1536, out_features=6144, bias=True)\n",
       "              (act): GELU(approximate='none')\n",
       "              (drop1): Dropout(p=0.0, inplace=False)\n",
       "              (norm): Identity()\n",
       "              (fc2): Linear(in_features=6144, out_features=1536, bias=True)\n",
       "              (drop2): Dropout(p=0.0, inplace=False)\n",
       "            )\n",
       "            (drop_path2): DropPath(drop_prob=0.100)\n",
       "          )\n",
       "        )\n",
       "      )\n",
       "    )\n",
       "    (norm): LayerNorm((1536,), eps=1e-05, elementwise_affine=True)\n",
       "    (head): ClassifierHead(\n",
       "      (global_pool): SelectAdaptivePool2d(pool_type=avg, flatten=Identity())\n",
       "      (drop): Dropout(p=0.0, inplace=False)\n",
       "      (fc): Identity()\n",
       "      (flatten): Identity()\n",
       "    )\n",
       "  )\n",
       "  (final_fc): Sequential(\n",
       "    (0): Linear(in_features=1536, out_features=512, bias=True)\n",
       "    (1): BatchNorm1d(512, eps=1e-05, momentum=0.1, affine=True, track_running_stats=True)\n",
       "    (2): Swish_Module()\n",
       "    (3): Dropout(p=0.5, inplace=False)\n",
       "    (4): Linear(in_features=512, out_features=1, bias=True)\n",
       "    (5): Sigmoid()\n",
       "  )\n",
       ")"
      ]
     },
     "execution_count": 13,
     "metadata": {},
     "output_type": "execute_result"
    }
   ],
   "source": [
    "# Modeling - hybrid model w/ CNN + Metadata\n",
    "\n",
    "class Swish(torch.autograd.Function):\n",
    "    @staticmethod\n",
    "    def forward(ctx, i):\n",
    "        result = i * nn.Sigmoid()(i)\n",
    "        ctx.save_for_backward(i)\n",
    "        return result\n",
    "    @staticmethod\n",
    "    def backward(ctx, grad_output):\n",
    "        i = ctx.saved_variables[0]\n",
    "        sigmoid_i = nn.Sigmoid()(i)\n",
    "        return grad_output * (sigmoid_i * (1 + i * (1 - sigmoid_i)))\n",
    "\n",
    "class Swish_Module(nn.Module):\n",
    "    def forward(self, x):\n",
    "        return Swish.apply(x)\n",
    "\n",
    "class CustomISICModel(nn.Module):\n",
    "    def __init__(self, model_name, num_classes=1, pretrained=True):\n",
    "        super(CustomISICModel, self).__init__()\n",
    "        self.image_model = timm.create_model(model_name, pretrained=pretrained)\n",
    "        self.image_out_features = self.image_model.get_classifier().in_features\n",
    "        self.image_model.reset_classifier(0)  # Remove the original classifier\n",
    "\n",
    "        # Final fully connected layer for classification\n",
    "        self.final_fc = nn.Sequential(\n",
    "            nn.Linear(self.image_out_features, 512),\n",
    "            nn.BatchNorm1d(512),\n",
    "            Swish_Module(),\n",
    "            nn.Dropout(0.5),\n",
    "            nn.Linear(512, num_classes),\n",
    "            nn.Sigmoid()\n",
    "        )\n",
    "\n",
    "    def forward(self, image):\n",
    "        image_features = self.image_model(image)\n",
    "        output = self.final_fc(image_features)\n",
    "        return output\n",
    "\n",
    "# Check model    \n",
    "model = CustomISICModel(CONFIG['model_name'], pretrained=True)\n",
    "model.to(CONFIG['device'])"
   ]
  },
  {
   "cell_type": "markdown",
   "id": "24009083",
   "metadata": {
    "papermill": {
     "duration": 0.010564,
     "end_time": "2024-08-27T03:27:41.545517",
     "exception": false,
     "start_time": "2024-08-27T03:27:41.534953",
     "status": "completed"
    },
    "tags": []
   },
   "source": [
    "# Data Augmentation & Helper Functions"
   ]
  },
  {
   "cell_type": "code",
   "execution_count": 14,
   "id": "814e4a14",
   "metadata": {
    "execution": {
     "iopub.execute_input": "2024-08-27T03:27:41.568781Z",
     "iopub.status.busy": "2024-08-27T03:27:41.568174Z",
     "iopub.status.idle": "2024-08-27T03:27:41.577623Z",
     "shell.execute_reply": "2024-08-27T03:27:41.576812Z"
    },
    "papermill": {
     "duration": 0.023353,
     "end_time": "2024-08-27T03:27:41.579550",
     "exception": false,
     "start_time": "2024-08-27T03:27:41.556197",
     "status": "completed"
    },
    "tags": []
   },
   "outputs": [],
   "source": [
    "# Define image transformer\n",
    "data_transforms = {\n",
    "    'train': A.Compose([\n",
    "        A.RandomRotate90(p=0.5),\n",
    "        A.Flip(p=0.5),\n",
    "        A.Transpose(p=0.5),\n",
    "        A.ShiftScaleRotate(shift_limit=0.1, scale_limit=0.1, rotate_limit=45, p=0.5),\n",
    "        A.OneOf([\n",
    "            A.HueSaturationValue(p=0.5),\n",
    "            A.RandomBrightnessContrast(p=0.5),\n",
    "        ], p=0.5),\n",
    "        A.OneOf([\n",
    "            A.GaussNoise(p=0.5),\n",
    "            A.GaussianBlur(p=0.5),\n",
    "            A.MotionBlur(p=0.5),\n",
    "        ], p=0.5),\n",
    "        A.Resize(CONFIG['img_size'], CONFIG['img_size']),\n",
    "        A.Normalize(\n",
    "            mean=[0.4815, 0.4578, 0.4082], \n",
    "            std=[0.2686, 0.2613, 0.2758], \n",
    "            max_pixel_value=255.0),\n",
    "        ToTensorV2(),\n",
    "    ]),\n",
    "    \n",
    "    'valid': A.Compose([\n",
    "        A.Resize(CONFIG['img_size'], CONFIG['img_size']),\n",
    "        A.Normalize(\n",
    "            mean=[0.4815, 0.4578, 0.4082], \n",
    "            std=[0.2686, 0.2613, 0.2758], \n",
    "            max_pixel_value=255.0),\n",
    "        ToTensorV2(),\n",
    "    ])\n",
    "}"
   ]
  },
  {
   "cell_type": "code",
   "execution_count": 15,
   "id": "d7f5dd30",
   "metadata": {
    "execution": {
     "iopub.execute_input": "2024-08-27T03:27:41.602314Z",
     "iopub.status.busy": "2024-08-27T03:27:41.601831Z",
     "iopub.status.idle": "2024-08-27T03:27:41.605974Z",
     "shell.execute_reply": "2024-08-27T03:27:41.605109Z"
    },
    "papermill": {
     "duration": 0.017667,
     "end_time": "2024-08-27T03:27:41.607910",
     "exception": false,
     "start_time": "2024-08-27T03:27:41.590243",
     "status": "completed"
    },
    "tags": []
   },
   "outputs": [],
   "source": [
    "# Loss function\n",
    "def criterion(outputs, targets):\n",
    "    return nn.BCELoss()(outputs, targets)"
   ]
  },
  {
   "cell_type": "code",
   "execution_count": 16,
   "id": "fdb22289",
   "metadata": {
    "execution": {
     "iopub.execute_input": "2024-08-27T03:27:41.631439Z",
     "iopub.status.busy": "2024-08-27T03:27:41.630652Z",
     "iopub.status.idle": "2024-08-27T03:27:41.636391Z",
     "shell.execute_reply": "2024-08-27T03:27:41.635542Z"
    },
    "papermill": {
     "duration": 0.019532,
     "end_time": "2024-08-27T03:27:41.638277",
     "exception": false,
     "start_time": "2024-08-27T03:27:41.618745",
     "status": "completed"
    },
    "tags": []
   },
   "outputs": [],
   "source": [
    "def fetch_scheduler(optimizer):\n",
    "    if CONFIG['scheduler'] == 'CosineAnnealingLR':\n",
    "        scheduler = lr_scheduler.CosineAnnealingLR(optimizer,T_max=CONFIG['T_max'], \n",
    "                                                   eta_min=CONFIG['min_lr'])\n",
    "    elif CONFIG['scheduler'] == 'CosineAnnealingWarmRestarts':\n",
    "        scheduler = lr_scheduler.CosineAnnealingWarmRestarts(optimizer,T_0=CONFIG['T_0'], \n",
    "                                                             eta_min=CONFIG['min_lr'])\n",
    "    elif CONFIG['scheduler'] == None:\n",
    "        return None\n",
    "        \n",
    "    return scheduler"
   ]
  },
  {
   "cell_type": "code",
   "execution_count": 17,
   "id": "7dee53ad",
   "metadata": {
    "execution": {
     "iopub.execute_input": "2024-08-27T03:27:41.661858Z",
     "iopub.status.busy": "2024-08-27T03:27:41.661213Z",
     "iopub.status.idle": "2024-08-27T03:27:41.668190Z",
     "shell.execute_reply": "2024-08-27T03:27:41.667358Z"
    },
    "papermill": {
     "duration": 0.020876,
     "end_time": "2024-08-27T03:27:41.670090",
     "exception": false,
     "start_time": "2024-08-27T03:27:41.649214",
     "status": "completed"
    },
    "tags": []
   },
   "outputs": [],
   "source": [
    "# Running training and validation\n",
    "def prepare_loaders(df, fold):\n",
    "    train_df = df[df['fold'] != fold].reset_index(drop=True)\n",
    "    valid_df = df[df['fold'] == fold].reset_index(drop=True)\n",
    "\n",
    "    train_dataset = CustomDataset(train_df, file_path=HDF_FILE, \n",
    "                                transforms=data_transforms['train'], is_training=True)\n",
    "    valid_dataset = CustomDataset(valid_df, file_path=HDF_FILE, \n",
    "                                transforms=data_transforms['valid'], is_training=False)\n",
    "\n",
    "    train_loader = DataLoader(train_dataset, batch_size=CONFIG['train_batch_size'], shuffle=True, \n",
    "                              num_workers=4, pin_memory=True)\n",
    "    valid_loader = DataLoader(valid_dataset, batch_size=CONFIG['valid_batch_size'], shuffle=False, \n",
    "                              num_workers=4, pin_memory=True)\n",
    "    \n",
    "    return train_loader, valid_loader"
   ]
  },
  {
   "cell_type": "markdown",
   "id": "40c90119",
   "metadata": {
    "papermill": {
     "duration": 0.010537,
     "end_time": "2024-08-27T03:27:41.691570",
     "exception": false,
     "start_time": "2024-08-27T03:27:41.681033",
     "status": "completed"
    },
    "tags": []
   },
   "source": [
    "# Training & Validation Functions"
   ]
  },
  {
   "cell_type": "code",
   "execution_count": 18,
   "id": "ea624c5f",
   "metadata": {
    "execution": {
     "iopub.execute_input": "2024-08-27T03:27:41.714349Z",
     "iopub.status.busy": "2024-08-27T03:27:41.714035Z",
     "iopub.status.idle": "2024-08-27T03:27:41.723076Z",
     "shell.execute_reply": "2024-08-27T03:27:41.722352Z"
    },
    "papermill": {
     "duration": 0.02249,
     "end_time": "2024-08-27T03:27:41.724859",
     "exception": false,
     "start_time": "2024-08-27T03:27:41.702369",
     "status": "completed"
    },
    "tags": []
   },
   "outputs": [],
   "source": [
    "# Main training function\n",
    "def run_training(model, optimizer, scheduler, device, num_epochs):\n",
    "    best_model_wts = copy.deepcopy(model.state_dict())\n",
    "    best_epoch_auroc = 0\n",
    "    best_epoch_loss = 1\n",
    "    history = defaultdict(list)\n",
    "    \n",
    "    for epoch in range(1, num_epochs + 1):\n",
    "        gc.collect()\n",
    "        train_epoch_loss, train_epoch_auroc = train_one_epoch(model, optimizer, \n",
    "                                                              scheduler, dataloader=train_loader, \n",
    "                                                              device=device, epoch=epoch)\n",
    "        \n",
    "        val_epoch_loss, val_epoch_auroc = valid_one_epoch(model, valid_loader, device=device, epoch=epoch)\n",
    "        \n",
    "        history['Train Loss'].append(train_epoch_loss)\n",
    "        history['Train AUROC'].append(train_epoch_auroc)\n",
    "        history['Valid Loss'].append(val_epoch_loss)\n",
    "        history['Valid AUROC'].append(val_epoch_auroc)\n",
    "        \n",
    "        # deep copy the model\n",
    "        if best_epoch_auroc <= val_epoch_auroc:\n",
    "            print(f\"{b_}Validation AUROC Improved ({best_epoch_auroc} ---> {val_epoch_auroc})\")\n",
    "            best_epoch_auroc = val_epoch_auroc\n",
    "            best_model_wts = copy.deepcopy(model.state_dict())\n",
    "            PATH = \"AUROC{:.4f}_Loss{:.4f}_epoch{:.0f}.bin\".format(val_epoch_auroc, val_epoch_loss, epoch)\n",
    "            torch.save(model.state_dict(), PATH)\n",
    "            # Save a model file from the current directory\n",
    "            print(f\"Model Saved{sr_}\")\n",
    "            \n",
    "        print()\n",
    "        \n",
    "    print(\"Best AUROC: {:.4f}\".format(best_epoch_auroc))\n",
    "    \n",
    "    # load best model weights\n",
    "    model.load_state_dict(best_model_wts)\n",
    "    \n",
    "    return model, history"
   ]
  },
  {
   "cell_type": "code",
   "execution_count": 19,
   "id": "018913bb",
   "metadata": {
    "execution": {
     "iopub.execute_input": "2024-08-27T03:27:41.747554Z",
     "iopub.status.busy": "2024-08-27T03:27:41.747248Z",
     "iopub.status.idle": "2024-08-27T03:27:41.756573Z",
     "shell.execute_reply": "2024-08-27T03:27:41.755849Z"
    },
    "papermill": {
     "duration": 0.022793,
     "end_time": "2024-08-27T03:27:41.758412",
     "exception": false,
     "start_time": "2024-08-27T03:27:41.735619",
     "status": "completed"
    },
    "tags": []
   },
   "outputs": [],
   "source": [
    "# Training\n",
    "def train_one_epoch(model, optimizer, scheduler, dataloader, device, epoch):\n",
    "    model.train()\n",
    "    \n",
    "    dataset_size = 0\n",
    "    running_loss = 0.0\n",
    "    running_auroc  = 0.0\n",
    "    \n",
    "    bar = tqdm(enumerate(dataloader), total=len(dataloader))\n",
    "    for step, data in bar:\n",
    "        images = data['image'].to(device, dtype=torch.float)\n",
    "        targets = data['target'].to(device, dtype=torch.float)\n",
    "        \n",
    "        batch_size = images.size(0)\n",
    "        \n",
    "        outputs = model(images).squeeze()\n",
    "        loss = criterion(outputs, targets)\n",
    "        loss = loss / CONFIG['n_accumulate']\n",
    "            \n",
    "        loss.backward()\n",
    "    \n",
    "        if (step + 1) % CONFIG['n_accumulate'] == 0:\n",
    "            optimizer.step()\n",
    "\n",
    "            # zero the parameter gradients\n",
    "            optimizer.zero_grad()\n",
    "\n",
    "            if scheduler is not None:\n",
    "                scheduler.step()\n",
    "                \n",
    "        auroc = binary_auroc(input=outputs, target=targets).item()\n",
    "        \n",
    "        running_loss += (loss.item() * batch_size)\n",
    "        running_auroc  += (auroc * batch_size)\n",
    "        dataset_size += batch_size\n",
    "        \n",
    "        epoch_loss = running_loss / dataset_size\n",
    "        epoch_auroc  = running_auroc  / dataset_size\n",
    "        \n",
    "        bar.set_postfix(Epoch=epoch, Train_Loss=epoch_loss, Train_AUROC=epoch_auroc, \n",
    "                        LR=optimizer.param_groups[0]['lr'])\n",
    "        \n",
    "    gc.collect()\n",
    "    \n",
    "    return epoch_loss, epoch_auroc "
   ]
  },
  {
   "cell_type": "code",
   "execution_count": 20,
   "id": "b6c0a464",
   "metadata": {
    "execution": {
     "iopub.execute_input": "2024-08-27T03:27:41.780966Z",
     "iopub.status.busy": "2024-08-27T03:27:41.780702Z",
     "iopub.status.idle": "2024-08-27T03:27:41.788404Z",
     "shell.execute_reply": "2024-08-27T03:27:41.787593Z"
    },
    "papermill": {
     "duration": 0.021045,
     "end_time": "2024-08-27T03:27:41.790218",
     "exception": false,
     "start_time": "2024-08-27T03:27:41.769173",
     "status": "completed"
    },
    "tags": []
   },
   "outputs": [],
   "source": [
    "# Validation\n",
    "\n",
    "@torch.no_grad()\n",
    "def valid_one_epoch(model, dataloader, device, epoch):\n",
    "    model.eval()\n",
    "    \n",
    "    dataset_size = 0\n",
    "    running_loss = 0.0\n",
    "    running_auroc  = 0.0\n",
    "    \n",
    "    bar = tqdm(enumerate(dataloader), total=len(dataloader))\n",
    "    for step, data in bar:\n",
    "        images = data['image'].to(device, dtype=torch.float)\n",
    "        targets = data['target'].to(device, dtype=torch.float)\n",
    "        \n",
    "        batch_size = images.size(0)\n",
    "        \n",
    "        outputs = model(images).squeeze()\n",
    "        loss = criterion(outputs, targets)\n",
    "        \n",
    "        auroc = binary_auroc(input=outputs, target=targets).item()\n",
    "        \n",
    "        running_loss += (loss.item() * batch_size)\n",
    "        running_auroc  += (auroc * batch_size)\n",
    "        dataset_size += batch_size\n",
    "\n",
    "        epoch_loss = running_loss / dataset_size\n",
    "        epoch_auroc  = running_auroc  / dataset_size\n",
    "        \n",
    "        bar.set_postfix(Epoch=epoch, Valid_Loss=epoch_loss, Valid_AUROC=epoch_auroc)\n",
    "        \n",
    "    gc.collect()\n",
    "    \n",
    "    return epoch_loss, epoch_auroc "
   ]
  },
  {
   "cell_type": "markdown",
   "id": "0600e380",
   "metadata": {
    "papermill": {
     "duration": 0.010712,
     "end_time": "2024-08-27T03:27:41.811905",
     "exception": false,
     "start_time": "2024-08-27T03:27:41.801193",
     "status": "completed"
    },
    "tags": []
   },
   "source": [
    "# Training"
   ]
  },
  {
   "cell_type": "code",
   "execution_count": 21,
   "id": "f8f53c23",
   "metadata": {
    "execution": {
     "iopub.execute_input": "2024-08-27T03:27:41.835151Z",
     "iopub.status.busy": "2024-08-27T03:27:41.834844Z",
     "iopub.status.idle": "2024-08-27T03:27:42.550831Z",
     "shell.execute_reply": "2024-08-27T03:27:42.549967Z"
    },
    "papermill": {
     "duration": 0.730295,
     "end_time": "2024-08-27T03:27:42.553434",
     "exception": false,
     "start_time": "2024-08-27T03:27:41.823139",
     "status": "completed"
    },
    "tags": []
   },
   "outputs": [],
   "source": [
    "# Preparing stratified k-fold\n",
    "skf = StratifiedGroupKFold(n_splits=CONFIG['n_fold'])\n",
    "\n",
    "for fold, (train_idx, val_idx) in enumerate(skf.split(X=df, y=df.target, groups=df.patient_id)):\n",
    "    df.loc[val_idx, 'fold'] = fold"
   ]
  },
  {
   "cell_type": "code",
   "execution_count": 22,
   "id": "18a4caec",
   "metadata": {
    "execution": {
     "iopub.execute_input": "2024-08-27T03:27:42.577745Z",
     "iopub.status.busy": "2024-08-27T03:27:42.577140Z",
     "iopub.status.idle": "2024-08-27T09:17:35.777538Z",
     "shell.execute_reply": "2024-08-27T09:17:35.776421Z"
    },
    "papermill": {
     "duration": 20993.214487,
     "end_time": "2024-08-27T09:17:35.779598",
     "exception": false,
     "start_time": "2024-08-27T03:27:42.565111",
     "status": "completed"
    },
    "tags": []
   },
   "outputs": [
    {
     "name": "stderr",
     "output_type": "stream",
     "text": [
      "100%|██████████| 186/186 [04:08<00:00,  1.33s/it, Epoch=1, LR=0.0001, Train_AUROC=0.985, Train_Loss=0.148]\n",
      "100%|██████████| 390/390 [02:53<00:00,  2.25it/s, Epoch=1, Valid_AUROC=0.501, Valid_Loss=0.152]\n"
     ]
    },
    {
     "name": "stdout",
     "output_type": "stream",
     "text": [
      "\u001b[34mValidation AUROC Improved (0 ---> 0.5009430176565008)\n",
      "Model Saved\u001b[0m\n",
      "\n"
     ]
    },
    {
     "name": "stderr",
     "output_type": "stream",
     "text": [
      "100%|██████████| 186/186 [04:05<00:00,  1.32s/it, Epoch=2, LR=0.0001, Train_AUROC=0.993, Train_Loss=0.111]\n",
      "100%|██████████| 390/390 [02:53<00:00,  2.25it/s, Epoch=2, Valid_AUROC=0.501, Valid_Loss=0.0578]\n"
     ]
    },
    {
     "name": "stdout",
     "output_type": "stream",
     "text": [
      "\u001b[34mValidation AUROC Improved (0.5009430176565008 ---> 0.5010032102728732)\n",
      "Model Saved\u001b[0m\n",
      "\n"
     ]
    },
    {
     "name": "stderr",
     "output_type": "stream",
     "text": [
      "100%|██████████| 186/186 [04:04<00:00,  1.32s/it, Epoch=3, LR=0.0001, Train_AUROC=0.993, Train_Loss=0.107]\n",
      "100%|██████████| 390/390 [02:52<00:00,  2.26it/s, Epoch=3, Valid_AUROC=0.501, Valid_Loss=0.0726]\n"
     ]
    },
    {
     "name": "stdout",
     "output_type": "stream",
     "text": [
      "\u001b[34mValidation AUROC Improved (0.5010032102728732 ---> 0.5010032102728732)\n",
      "Model Saved\u001b[0m\n",
      "\n"
     ]
    },
    {
     "name": "stderr",
     "output_type": "stream",
     "text": [
      "100%|██████████| 186/186 [04:05<00:00,  1.32s/it, Epoch=4, LR=0.0001, Train_AUROC=0.994, Train_Loss=0.102]\n",
      "100%|██████████| 390/390 [02:52<00:00,  2.26it/s, Epoch=4, Valid_AUROC=0.501, Valid_Loss=0.0512]\n"
     ]
    },
    {
     "name": "stdout",
     "output_type": "stream",
     "text": [
      "\n"
     ]
    },
    {
     "name": "stderr",
     "output_type": "stream",
     "text": [
      "100%|██████████| 186/186 [04:05<00:00,  1.32s/it, Epoch=5, LR=0.0001, Train_AUROC=0.994, Train_Loss=0.0993]\n",
      "100%|██████████| 390/390 [02:52<00:00,  2.26it/s, Epoch=5, Valid_AUROC=0.501, Valid_Loss=0.0738]\n"
     ]
    },
    {
     "name": "stdout",
     "output_type": "stream",
     "text": [
      "\n"
     ]
    },
    {
     "name": "stderr",
     "output_type": "stream",
     "text": [
      "100%|██████████| 186/186 [04:04<00:00,  1.32s/it, Epoch=6, LR=0.0001, Train_AUROC=0.996, Train_Loss=0.0896]\n",
      "100%|██████████| 390/390 [02:52<00:00,  2.26it/s, Epoch=6, Valid_AUROC=0.501, Valid_Loss=0.0489]\n"
     ]
    },
    {
     "name": "stdout",
     "output_type": "stream",
     "text": [
      "\n"
     ]
    },
    {
     "name": "stderr",
     "output_type": "stream",
     "text": [
      "100%|██████████| 186/186 [04:04<00:00,  1.32s/it, Epoch=7, LR=9.99e-5, Train_AUROC=0.996, Train_Loss=0.084]\n",
      "100%|██████████| 390/390 [02:52<00:00,  2.26it/s, Epoch=7, Valid_AUROC=0.501, Valid_Loss=0.0708]\n"
     ]
    },
    {
     "name": "stdout",
     "output_type": "stream",
     "text": [
      "\u001b[34mValidation AUROC Improved (0.5010032102728732 ---> 0.5010232744783306)\n",
      "Model Saved\u001b[0m\n",
      "\n"
     ]
    },
    {
     "name": "stderr",
     "output_type": "stream",
     "text": [
      "100%|██████████| 186/186 [04:05<00:00,  1.32s/it, Epoch=8, LR=9.99e-5, Train_AUROC=0.995, Train_Loss=0.0866]\n",
      "100%|██████████| 390/390 [02:52<00:00,  2.26it/s, Epoch=8, Valid_AUROC=0.501, Valid_Loss=0.066]\n"
     ]
    },
    {
     "name": "stdout",
     "output_type": "stream",
     "text": [
      "\n"
     ]
    },
    {
     "name": "stderr",
     "output_type": "stream",
     "text": [
      "100%|██████████| 186/186 [04:05<00:00,  1.32s/it, Epoch=9, LR=9.99e-5, Train_AUROC=0.995, Train_Loss=0.0905]\n",
      "100%|██████████| 390/390 [02:52<00:00,  2.26it/s, Epoch=9, Valid_AUROC=0.501, Valid_Loss=0.052]\n"
     ]
    },
    {
     "name": "stdout",
     "output_type": "stream",
     "text": [
      "\n"
     ]
    },
    {
     "name": "stderr",
     "output_type": "stream",
     "text": [
      "100%|██████████| 186/186 [04:05<00:00,  1.32s/it, Epoch=10, LR=9.99e-5, Train_AUROC=0.996, Train_Loss=0.0848]\n",
      "100%|██████████| 390/390 [02:52<00:00,  2.26it/s, Epoch=10, Valid_AUROC=0.501, Valid_Loss=0.0357]\n"
     ]
    },
    {
     "name": "stdout",
     "output_type": "stream",
     "text": [
      "\u001b[34mValidation AUROC Improved (0.5010232744783306 ---> 0.5010734349919743)\n",
      "Model Saved\u001b[0m\n",
      "\n"
     ]
    },
    {
     "name": "stderr",
     "output_type": "stream",
     "text": [
      "100%|██████████| 186/186 [04:05<00:00,  1.32s/it, Epoch=11, LR=9.98e-5, Train_AUROC=0.997, Train_Loss=0.0718]\n",
      "100%|██████████| 390/390 [02:52<00:00,  2.26it/s, Epoch=11, Valid_AUROC=0.501, Valid_Loss=0.0382]\n"
     ]
    },
    {
     "name": "stdout",
     "output_type": "stream",
     "text": [
      "\n"
     ]
    },
    {
     "name": "stderr",
     "output_type": "stream",
     "text": [
      "100%|██████████| 186/186 [04:05<00:00,  1.32s/it, Epoch=12, LR=9.98e-5, Train_AUROC=0.996, Train_Loss=0.0761]\n",
      "100%|██████████| 390/390 [02:53<00:00,  2.25it/s, Epoch=12, Valid_AUROC=0.501, Valid_Loss=0.0595]\n"
     ]
    },
    {
     "name": "stdout",
     "output_type": "stream",
     "text": [
      "\n"
     ]
    },
    {
     "name": "stderr",
     "output_type": "stream",
     "text": [
      "100%|██████████| 186/186 [04:05<00:00,  1.32s/it, Epoch=13, LR=9.98e-5, Train_AUROC=0.997, Train_Loss=0.0724]\n",
      "100%|██████████| 390/390 [02:52<00:00,  2.26it/s, Epoch=13, Valid_AUROC=0.501, Valid_Loss=0.0498]\n"
     ]
    },
    {
     "name": "stdout",
     "output_type": "stream",
     "text": [
      "\n"
     ]
    },
    {
     "name": "stderr",
     "output_type": "stream",
     "text": [
      "100%|██████████| 186/186 [04:05<00:00,  1.32s/it, Epoch=14, LR=9.97e-5, Train_AUROC=0.997, Train_Loss=0.0715]\n",
      "100%|██████████| 390/390 [02:53<00:00,  2.25it/s, Epoch=14, Valid_AUROC=0.501, Valid_Loss=0.0404]\n"
     ]
    },
    {
     "name": "stdout",
     "output_type": "stream",
     "text": [
      "\n"
     ]
    },
    {
     "name": "stderr",
     "output_type": "stream",
     "text": [
      "100%|██████████| 186/186 [04:06<00:00,  1.32s/it, Epoch=15, LR=9.97e-5, Train_AUROC=0.997, Train_Loss=0.0683]\n",
      "100%|██████████| 390/390 [02:53<00:00,  2.24it/s, Epoch=15, Valid_AUROC=0.501, Valid_Loss=0.0617]\n"
     ]
    },
    {
     "name": "stdout",
     "output_type": "stream",
     "text": [
      "\n"
     ]
    },
    {
     "name": "stderr",
     "output_type": "stream",
     "text": [
      "100%|██████████| 186/186 [04:06<00:00,  1.32s/it, Epoch=16, LR=9.97e-5, Train_AUROC=0.997, Train_Loss=0.073]\n",
      "100%|██████████| 390/390 [02:53<00:00,  2.25it/s, Epoch=16, Valid_AUROC=0.501, Valid_Loss=0.0556]\n"
     ]
    },
    {
     "name": "stdout",
     "output_type": "stream",
     "text": [
      "\n"
     ]
    },
    {
     "name": "stderr",
     "output_type": "stream",
     "text": [
      "100%|██████████| 186/186 [04:06<00:00,  1.33s/it, Epoch=17, LR=9.96e-5, Train_AUROC=0.997, Train_Loss=0.0751]\n",
      "100%|██████████| 390/390 [02:53<00:00,  2.24it/s, Epoch=17, Valid_AUROC=0.501, Valid_Loss=0.0514]\n"
     ]
    },
    {
     "name": "stdout",
     "output_type": "stream",
     "text": [
      "\n"
     ]
    },
    {
     "name": "stderr",
     "output_type": "stream",
     "text": [
      "100%|██████████| 186/186 [04:06<00:00,  1.32s/it, Epoch=18, LR=9.96e-5, Train_AUROC=0.998, Train_Loss=0.0673]\n",
      "100%|██████████| 390/390 [02:53<00:00,  2.25it/s, Epoch=18, Valid_AUROC=0.501, Valid_Loss=0.0471]\n"
     ]
    },
    {
     "name": "stdout",
     "output_type": "stream",
     "text": [
      "\n"
     ]
    },
    {
     "name": "stderr",
     "output_type": "stream",
     "text": [
      "100%|██████████| 186/186 [04:07<00:00,  1.33s/it, Epoch=19, LR=9.95e-5, Train_AUROC=0.997, Train_Loss=0.0704]\n",
      "100%|██████████| 390/390 [02:53<00:00,  2.25it/s, Epoch=19, Valid_AUROC=0.501, Valid_Loss=0.0615]\n"
     ]
    },
    {
     "name": "stdout",
     "output_type": "stream",
     "text": [
      "\n"
     ]
    },
    {
     "name": "stderr",
     "output_type": "stream",
     "text": [
      "100%|██████████| 186/186 [04:05<00:00,  1.32s/it, Epoch=20, LR=9.95e-5, Train_AUROC=0.997, Train_Loss=0.0656]\n",
      "100%|██████████| 390/390 [02:52<00:00,  2.26it/s, Epoch=20, Valid_AUROC=0.501, Valid_Loss=0.0576]\n"
     ]
    },
    {
     "name": "stdout",
     "output_type": "stream",
     "text": [
      "\n"
     ]
    },
    {
     "name": "stderr",
     "output_type": "stream",
     "text": [
      "100%|██████████| 186/186 [04:05<00:00,  1.32s/it, Epoch=21, LR=9.94e-5, Train_AUROC=0.997, Train_Loss=0.0635]\n",
      "100%|██████████| 390/390 [02:53<00:00,  2.25it/s, Epoch=21, Valid_AUROC=0.501, Valid_Loss=0.0467]\n"
     ]
    },
    {
     "name": "stdout",
     "output_type": "stream",
     "text": [
      "\n"
     ]
    },
    {
     "name": "stderr",
     "output_type": "stream",
     "text": [
      "100%|██████████| 186/186 [04:05<00:00,  1.32s/it, Epoch=22, LR=9.94e-5, Train_AUROC=0.998, Train_Loss=0.0628]\n",
      "100%|██████████| 390/390 [02:52<00:00,  2.26it/s, Epoch=22, Valid_AUROC=0.501, Valid_Loss=0.178]\n"
     ]
    },
    {
     "name": "stdout",
     "output_type": "stream",
     "text": [
      "\u001b[34mValidation AUROC Improved (0.5010734349919743 ---> 0.5011637239165329)\n",
      "Model Saved\u001b[0m\n",
      "\n"
     ]
    },
    {
     "name": "stderr",
     "output_type": "stream",
     "text": [
      "100%|██████████| 186/186 [04:05<00:00,  1.32s/it, Epoch=23, LR=9.93e-5, Train_AUROC=0.998, Train_Loss=0.0584]\n",
      "100%|██████████| 390/390 [02:52<00:00,  2.26it/s, Epoch=23, Valid_AUROC=0.501, Valid_Loss=0.0834]\n"
     ]
    },
    {
     "name": "stdout",
     "output_type": "stream",
     "text": [
      "\u001b[34mValidation AUROC Improved (0.5011637239165329 ---> 0.5011737560192616)\n",
      "Model Saved\u001b[0m\n",
      "\n"
     ]
    },
    {
     "name": "stderr",
     "output_type": "stream",
     "text": [
      "100%|██████████| 186/186 [04:05<00:00,  1.32s/it, Epoch=24, LR=9.93e-5, Train_AUROC=0.998, Train_Loss=0.0552]\n",
      "100%|██████████| 390/390 [02:52<00:00,  2.26it/s, Epoch=24, Valid_AUROC=0.501, Valid_Loss=0.0599]\n"
     ]
    },
    {
     "name": "stdout",
     "output_type": "stream",
     "text": [
      "\n"
     ]
    },
    {
     "name": "stderr",
     "output_type": "stream",
     "text": [
      "100%|██████████| 186/186 [04:05<00:00,  1.32s/it, Epoch=25, LR=9.92e-5, Train_AUROC=0.998, Train_Loss=0.0547]\n",
      "100%|██████████| 390/390 [02:52<00:00,  2.26it/s, Epoch=25, Valid_AUROC=0.501, Valid_Loss=0.0484]\n"
     ]
    },
    {
     "name": "stdout",
     "output_type": "stream",
     "text": [
      "\n"
     ]
    },
    {
     "name": "stderr",
     "output_type": "stream",
     "text": [
      "100%|██████████| 186/186 [04:05<00:00,  1.32s/it, Epoch=26, LR=9.91e-5, Train_AUROC=0.998, Train_Loss=0.0632]\n",
      "100%|██████████| 390/390 [02:52<00:00,  2.26it/s, Epoch=26, Valid_AUROC=0.501, Valid_Loss=0.049]\n"
     ]
    },
    {
     "name": "stdout",
     "output_type": "stream",
     "text": [
      "\n"
     ]
    },
    {
     "name": "stderr",
     "output_type": "stream",
     "text": [
      "100%|██████████| 186/186 [04:05<00:00,  1.32s/it, Epoch=27, LR=9.91e-5, Train_AUROC=0.999, Train_Loss=0.0484]\n",
      "100%|██████████| 390/390 [02:52<00:00,  2.26it/s, Epoch=27, Valid_AUROC=0.501, Valid_Loss=0.0761]\n"
     ]
    },
    {
     "name": "stdout",
     "output_type": "stream",
     "text": [
      "\n"
     ]
    },
    {
     "name": "stderr",
     "output_type": "stream",
     "text": [
      "100%|██████████| 186/186 [04:05<00:00,  1.32s/it, Epoch=28, LR=9.9e-5, Train_AUROC=0.999, Train_Loss=0.0474]\n",
      "100%|██████████| 390/390 [02:52<00:00,  2.26it/s, Epoch=28, Valid_AUROC=0.501, Valid_Loss=0.0415]\n"
     ]
    },
    {
     "name": "stdout",
     "output_type": "stream",
     "text": [
      "\n"
     ]
    },
    {
     "name": "stderr",
     "output_type": "stream",
     "text": [
      "100%|██████████| 186/186 [04:05<00:00,  1.32s/it, Epoch=29, LR=9.89e-5, Train_AUROC=0.997, Train_Loss=0.064]\n",
      "100%|██████████| 390/390 [02:53<00:00,  2.25it/s, Epoch=29, Valid_AUROC=0.501, Valid_Loss=0.057]\n"
     ]
    },
    {
     "name": "stdout",
     "output_type": "stream",
     "text": [
      "\n"
     ]
    },
    {
     "name": "stderr",
     "output_type": "stream",
     "text": [
      "100%|██████████| 186/186 [04:05<00:00,  1.32s/it, Epoch=30, LR=9.88e-5, Train_AUROC=0.999, Train_Loss=0.0515]\n",
      "100%|██████████| 390/390 [02:53<00:00,  2.25it/s, Epoch=30, Valid_AUROC=0.501, Valid_Loss=0.0631]\n"
     ]
    },
    {
     "name": "stdout",
     "output_type": "stream",
     "text": [
      "\n"
     ]
    },
    {
     "name": "stderr",
     "output_type": "stream",
     "text": [
      "100%|██████████| 186/186 [04:05<00:00,  1.32s/it, Epoch=31, LR=9.88e-5, Train_AUROC=0.999, Train_Loss=0.0515]\n",
      "100%|██████████| 390/390 [02:52<00:00,  2.25it/s, Epoch=31, Valid_AUROC=0.501, Valid_Loss=0.1]\n"
     ]
    },
    {
     "name": "stdout",
     "output_type": "stream",
     "text": [
      "\n"
     ]
    },
    {
     "name": "stderr",
     "output_type": "stream",
     "text": [
      "100%|██████████| 186/186 [04:05<00:00,  1.32s/it, Epoch=32, LR=9.87e-5, Train_AUROC=0.999, Train_Loss=0.0442]\n",
      "100%|██████████| 390/390 [02:53<00:00,  2.25it/s, Epoch=32, Valid_AUROC=0.501, Valid_Loss=0.0845]\n"
     ]
    },
    {
     "name": "stdout",
     "output_type": "stream",
     "text": [
      "\n"
     ]
    },
    {
     "name": "stderr",
     "output_type": "stream",
     "text": [
      "100%|██████████| 186/186 [04:05<00:00,  1.32s/it, Epoch=33, LR=9.86e-5, Train_AUROC=0.999, Train_Loss=0.0473]\n",
      "100%|██████████| 390/390 [02:53<00:00,  2.25it/s, Epoch=33, Valid_AUROC=0.501, Valid_Loss=0.0882]\n"
     ]
    },
    {
     "name": "stdout",
     "output_type": "stream",
     "text": [
      "\n"
     ]
    },
    {
     "name": "stderr",
     "output_type": "stream",
     "text": [
      "100%|██████████| 186/186 [04:05<00:00,  1.32s/it, Epoch=34, LR=9.85e-5, Train_AUROC=0.999, Train_Loss=0.0473]\n",
      "100%|██████████| 390/390 [02:53<00:00,  2.25it/s, Epoch=34, Valid_AUROC=0.501, Valid_Loss=0.0879]\n"
     ]
    },
    {
     "name": "stdout",
     "output_type": "stream",
     "text": [
      "\n"
     ]
    },
    {
     "name": "stderr",
     "output_type": "stream",
     "text": [
      "100%|██████████| 186/186 [04:05<00:00,  1.32s/it, Epoch=35, LR=9.84e-5, Train_AUROC=0.999, Train_Loss=0.0403]\n",
      "100%|██████████| 390/390 [02:53<00:00,  2.25it/s, Epoch=35, Valid_AUROC=0.501, Valid_Loss=0.0552]\n"
     ]
    },
    {
     "name": "stdout",
     "output_type": "stream",
     "text": [
      "\n"
     ]
    },
    {
     "name": "stderr",
     "output_type": "stream",
     "text": [
      "100%|██████████| 186/186 [04:05<00:00,  1.32s/it, Epoch=36, LR=9.83e-5, Train_AUROC=0.999, Train_Loss=0.0453]\n",
      "100%|██████████| 390/390 [02:53<00:00,  2.25it/s, Epoch=36, Valid_AUROC=0.501, Valid_Loss=0.121]\n"
     ]
    },
    {
     "name": "stdout",
     "output_type": "stream",
     "text": [
      "\n"
     ]
    },
    {
     "name": "stderr",
     "output_type": "stream",
     "text": [
      "100%|██████████| 186/186 [04:05<00:00,  1.32s/it, Epoch=37, LR=9.82e-5, Train_AUROC=0.999, Train_Loss=0.0451]\n",
      "100%|██████████| 390/390 [02:53<00:00,  2.25it/s, Epoch=37, Valid_AUROC=0.501, Valid_Loss=0.0536]\n"
     ]
    },
    {
     "name": "stdout",
     "output_type": "stream",
     "text": [
      "\n"
     ]
    },
    {
     "name": "stderr",
     "output_type": "stream",
     "text": [
      "100%|██████████| 186/186 [04:05<00:00,  1.32s/it, Epoch=38, LR=9.81e-5, Train_AUROC=0.999, Train_Loss=0.0418]\n",
      "100%|██████████| 390/390 [02:52<00:00,  2.25it/s, Epoch=38, Valid_AUROC=0.501, Valid_Loss=0.05]\n"
     ]
    },
    {
     "name": "stdout",
     "output_type": "stream",
     "text": [
      "\n"
     ]
    },
    {
     "name": "stderr",
     "output_type": "stream",
     "text": [
      "100%|██████████| 186/186 [04:05<00:00,  1.32s/it, Epoch=39, LR=9.8e-5, Train_AUROC=0.999, Train_Loss=0.0518]\n",
      "100%|██████████| 390/390 [02:53<00:00,  2.25it/s, Epoch=39, Valid_AUROC=0.501, Valid_Loss=0.06]\n"
     ]
    },
    {
     "name": "stdout",
     "output_type": "stream",
     "text": [
      "\n"
     ]
    },
    {
     "name": "stderr",
     "output_type": "stream",
     "text": [
      "100%|██████████| 186/186 [04:05<00:00,  1.32s/it, Epoch=40, LR=9.79e-5, Train_AUROC=0.999, Train_Loss=0.0394]\n",
      "100%|██████████| 390/390 [02:52<00:00,  2.26it/s, Epoch=40, Valid_AUROC=0.501, Valid_Loss=0.0511]\n"
     ]
    },
    {
     "name": "stdout",
     "output_type": "stream",
     "text": [
      "\n"
     ]
    },
    {
     "name": "stderr",
     "output_type": "stream",
     "text": [
      "100%|██████████| 186/186 [04:05<00:00,  1.32s/it, Epoch=41, LR=9.78e-5, Train_AUROC=0.999, Train_Loss=0.0353]\n",
      "100%|██████████| 390/390 [02:52<00:00,  2.26it/s, Epoch=41, Valid_AUROC=0.501, Valid_Loss=0.109]\n"
     ]
    },
    {
     "name": "stdout",
     "output_type": "stream",
     "text": [
      "\n"
     ]
    },
    {
     "name": "stderr",
     "output_type": "stream",
     "text": [
      "100%|██████████| 186/186 [04:05<00:00,  1.32s/it, Epoch=42, LR=9.77e-5, Train_AUROC=0.999, Train_Loss=0.0392]\n",
      "100%|██████████| 390/390 [02:53<00:00,  2.25it/s, Epoch=42, Valid_AUROC=0.501, Valid_Loss=0.0884]\n"
     ]
    },
    {
     "name": "stdout",
     "output_type": "stream",
     "text": [
      "\n"
     ]
    },
    {
     "name": "stderr",
     "output_type": "stream",
     "text": [
      "100%|██████████| 186/186 [04:05<00:00,  1.32s/it, Epoch=43, LR=9.76e-5, Train_AUROC=0.999, Train_Loss=0.0396]\n",
      "100%|██████████| 390/390 [02:53<00:00,  2.25it/s, Epoch=43, Valid_AUROC=0.501, Valid_Loss=0.045]\n"
     ]
    },
    {
     "name": "stdout",
     "output_type": "stream",
     "text": [
      "\n"
     ]
    },
    {
     "name": "stderr",
     "output_type": "stream",
     "text": [
      "100%|██████████| 186/186 [04:07<00:00,  1.33s/it, Epoch=44, LR=9.75e-5, Train_AUROC=0.999, Train_Loss=0.0376]\n",
      "100%|██████████| 390/390 [02:53<00:00,  2.25it/s, Epoch=44, Valid_AUROC=0.501, Valid_Loss=0.0993]\n"
     ]
    },
    {
     "name": "stdout",
     "output_type": "stream",
     "text": [
      "\n"
     ]
    },
    {
     "name": "stderr",
     "output_type": "stream",
     "text": [
      "100%|██████████| 186/186 [04:07<00:00,  1.33s/it, Epoch=45, LR=9.74e-5, Train_AUROC=0.999, Train_Loss=0.0291]\n",
      "100%|██████████| 390/390 [02:54<00:00,  2.24it/s, Epoch=45, Valid_AUROC=0.501, Valid_Loss=0.0546]\n"
     ]
    },
    {
     "name": "stdout",
     "output_type": "stream",
     "text": [
      "\n"
     ]
    },
    {
     "name": "stderr",
     "output_type": "stream",
     "text": [
      "100%|██████████| 186/186 [04:06<00:00,  1.33s/it, Epoch=46, LR=9.73e-5, Train_AUROC=0.999, Train_Loss=0.0446]\n",
      "100%|██████████| 390/390 [02:53<00:00,  2.25it/s, Epoch=46, Valid_AUROC=0.501, Valid_Loss=0.0681]\n"
     ]
    },
    {
     "name": "stdout",
     "output_type": "stream",
     "text": [
      "\n"
     ]
    },
    {
     "name": "stderr",
     "output_type": "stream",
     "text": [
      "100%|██████████| 186/186 [04:06<00:00,  1.33s/it, Epoch=47, LR=9.72e-5, Train_AUROC=0.999, Train_Loss=0.0388]\n",
      "100%|██████████| 390/390 [02:54<00:00,  2.24it/s, Epoch=47, Valid_AUROC=0.501, Valid_Loss=0.0486]\n"
     ]
    },
    {
     "name": "stdout",
     "output_type": "stream",
     "text": [
      "\n"
     ]
    },
    {
     "name": "stderr",
     "output_type": "stream",
     "text": [
      "100%|██████████| 186/186 [04:07<00:00,  1.33s/it, Epoch=48, LR=9.7e-5, Train_AUROC=0.999, Train_Loss=0.0375]\n",
      "100%|██████████| 390/390 [02:53<00:00,  2.25it/s, Epoch=48, Valid_AUROC=0.501, Valid_Loss=0.0533]\n"
     ]
    },
    {
     "name": "stdout",
     "output_type": "stream",
     "text": [
      "\n"
     ]
    },
    {
     "name": "stderr",
     "output_type": "stream",
     "text": [
      "100%|██████████| 186/186 [04:06<00:00,  1.33s/it, Epoch=49, LR=9.69e-5, Train_AUROC=1, Train_Loss=0.0362]\n",
      "100%|██████████| 390/390 [02:53<00:00,  2.25it/s, Epoch=49, Valid_AUROC=0.501, Valid_Loss=0.0882]\n"
     ]
    },
    {
     "name": "stdout",
     "output_type": "stream",
     "text": [
      "\n"
     ]
    },
    {
     "name": "stderr",
     "output_type": "stream",
     "text": [
      "100%|██████████| 186/186 [04:06<00:00,  1.33s/it, Epoch=50, LR=9.68e-5, Train_AUROC=0.999, Train_Loss=0.0354]\n",
      "100%|██████████| 390/390 [02:53<00:00,  2.25it/s, Epoch=50, Valid_AUROC=0.501, Valid_Loss=0.0777]\n"
     ]
    },
    {
     "name": "stdout",
     "output_type": "stream",
     "text": [
      "\n",
      "Best AUROC: 0.5012\n"
     ]
    }
   ],
   "source": [
    "# Prepare dataloaders\n",
    "train_loader, valid_loader = prepare_loaders(df, fold=CONFIG[\"fold\"])\n",
    "\n",
    "# Define optimizer and scheduler\n",
    "optimizer = optim.Adam(model.parameters(), lr=CONFIG['learning_rate'], \n",
    "                       weight_decay=CONFIG['weight_decay'])\n",
    "scheduler = fetch_scheduler(optimizer)\n",
    "\n",
    "# Training\n",
    "model, history = run_training(model, optimizer, scheduler,\n",
    "                              device=CONFIG['device'],\n",
    "                              num_epochs=CONFIG['epochs'])"
   ]
  },
  {
   "cell_type": "code",
   "execution_count": 23,
   "id": "adeeb814",
   "metadata": {
    "execution": {
     "iopub.execute_input": "2024-08-27T09:17:45.396785Z",
     "iopub.status.busy": "2024-08-27T09:17:45.396423Z",
     "iopub.status.idle": "2024-08-27T09:17:45.902535Z",
     "shell.execute_reply": "2024-08-27T09:17:45.901601Z"
    },
    "papermill": {
     "duration": 5.263559,
     "end_time": "2024-08-27T09:17:45.904768",
     "exception": false,
     "start_time": "2024-08-27T09:17:40.641209",
     "status": "completed"
    },
    "tags": []
   },
   "outputs": [
    {
     "data": {
      "image/png": "[encoded data removed]",
      "text/plain": [
       "<Figure size 1200x400 with 2 Axes>"
      ]
     },
     "metadata": {},
     "output_type": "display_data"
    }
   ],
   "source": [
    "# Plot Loss and AUROC Curves\n",
    "def plot_metrics(history):\n",
    "    fig, (ax1, ax2) = plt.subplots(1, 2, figsize=(12, 4))\n",
    "\n",
    "    ax1.plot(history['Train Loss'], label='Train Loss')\n",
    "    ax1.plot(history['Valid Loss'], label='Valid Loss')\n",
    "    ax1.set_title('Loss Curves')\n",
    "    ax1.legend()\n",
    "\n",
    "    ax2.plot(history['Train AUROC'], label='Train AUROC')\n",
    "    ax2.plot(history['Valid AUROC'], label='Valid AUROC')\n",
    "    ax2.set_title('AUROC Curves')\n",
    "    ax2.legend()\n",
    "\n",
    "    plt.show()\n",
    "    \n",
    "# Logs\n",
    "plot_metrics(history)"
   ]
  }
 ],
 "metadata": {
  "kaggle": {
   "accelerator": "gpu",
   "dataSources": [
    {
     "databundleVersionId": 9094797,
     "sourceId": 63056,
     "sourceType": "competition"
    },
    {
     "datasetId": 174469,
     "sourceId": 505351,
     "sourceType": "datasetVersion"
    },
    {
     "datasetId": 3359869,
     "sourceId": 5843759,
     "sourceType": "datasetVersion"
    }
   ],
   "dockerImageVersionId": 30747,
   "isGpuEnabled": true,
   "isInternetEnabled": true,
   "language": "python",
   "sourceType": "notebook"
  },
  "kernelspec": {
   "display_name": "Python 3",
   "language": "python",
   "name": "python3"
  },
  "language_info": {
   "codemirror_mode": {
    "name": "ipython",
    "version": 3
   },
   "file_extension": ".py",
   "mimetype": "text/x-python",
   "name": "python",
   "nbconvert_exporter": "python",
   "pygments_lexer": "ipython3",
   "version": "3.11.9"
  },
  "papermill": {
   "default_parameters": {},
   "duration": 21052.071132,
   "end_time": "2024-08-27T09:17:53.044858",
   "environment_variables": {},
   "exception": null,
   "input_path": "__notebook__.ipynb",
   "output_path": "__notebook__.ipynb",
   "parameters": {},
   "start_time": "2024-08-27T03:27:00.973726",
   "version": "2.5.0"
  },
  "widgets": {
   "application/vnd.jupyter.widget-state+json": {
    "state": {
     "1563653d940e4b01bd0b3a188e0ba64c": {
      "model_module": "@jupyter-widgets/base",
      "model_module_version": "1.2.0",
      "model_name": "LayoutModel",
      "state": {
       "_model_module": "@jupyter-widgets/base",
       "_model_module_version": "1.2.0",
       "_model_name": "LayoutModel",
       "_view_count": null,
       "_view_module": "@jupyter-widgets/base",
       "_view_module_version": "1.2.0",
       "_view_name": "LayoutView",
       "align_content": null,
       "align_items": null,
       "align_self": null,
       "border": null,
       "bottom": null,
       "display": null,
       "flex": null,
       "flex_flow": null,
       "grid_area": null,
       "grid_auto_columns": null,
       "grid_auto_flow": null,
       "grid_auto_rows": null,
       "grid_column": null,
       "grid_gap": null,
       "grid_row": null,
       "grid_template_areas": null,
       "grid_template_columns": null,
       "grid_template_rows": null,
       "height": null,
       "justify_content": null,
       "justify_items": null,
       "left": null,
       "margin": null,
       "max_height": null,
       "max_width": null,
       "min_height": null,
       "min_width": null,
       "object_fit": null,
       "object_position": null,
       "order": null,
       "overflow": null,
       "overflow_x": null,
       "overflow_y": null,
       "padding": null,
       "right": null,
       "top": null,
       "visibility": null,
       "width": null
      }
     },
     "22d71e9435164161981dcdbb8a84b57a": {
      "model_module": "@jupyter-widgets/controls",
      "model_module_version": "1.5.0",
      "model_name": "DescriptionStyleModel",
      "state": {
       "_model_module": "@jupyter-widgets/controls",
       "_model_module_version": "1.5.0",
       "_model_name": "DescriptionStyleModel",
       "_view_count": null,
       "_view_module": "@jupyter-widgets/base",
       "_view_module_version": "1.2.0",
       "_view_name": "StyleView",
       "description_width": ""
      }
     },
     "2d39bfee703f4618ae6a76d8e874582a": {
      "model_module": "@jupyter-widgets/controls",
      "model_module_version": "1.5.0",
      "model_name": "DescriptionStyleModel",
      "state": {
       "_model_module": "@jupyter-widgets/controls",
       "_model_module_version": "1.5.0",
       "_model_name": "DescriptionStyleModel",
       "_view_count": null,
       "_view_module": "@jupyter-widgets/base",
       "_view_module_version": "1.2.0",
       "_view_name": "StyleView",
       "description_width": ""
      }
     },
     "2f7a94d5056f4e08820b922acb3b82cf": {
      "model_module": "@jupyter-widgets/base",
      "model_module_version": "1.2.0",
      "model_name": "LayoutModel",
      "state": {
       "_model_module": "@jupyter-widgets/base",
       "_model_module_version": "1.2.0",
       "_model_name": "LayoutModel",
       "_view_count": null,
       "_view_module": "@jupyter-widgets/base",
       "_view_module_version": "1.2.0",
       "_view_name": "LayoutView",
       "align_content": null,
       "align_items": null,
       "align_self": null,
       "border": null,
       "bottom": null,
       "display": null,
       "flex": null,
       "flex_flow": null,
       "grid_area": null,
       "grid_auto_columns": null,
       "grid_auto_flow": null,
       "grid_auto_rows": null,
       "grid_column": null,
       "grid_gap": null,
       "grid_row": null,
       "grid_template_areas": null,
       "grid_template_columns": null,
       "grid_template_rows": null,
       "height": null,
       "justify_content": null,
       "justify_items": null,
       "left": null,
       "margin": null,
       "max_height": null,
       "max_width": null,
       "min_height": null,
       "min_width": null,
       "object_fit": null,
       "object_position": null,
       "order": null,
       "overflow": null,
       "overflow_x": null,
       "overflow_y": null,
       "padding": null,
       "right": null,
       "top": null,
       "visibility": null,
       "width": null
      }
     },
     "66a517b6b2d6405fb4b3737192b72dd7": {
      "model_module": "@jupyter-widgets/controls",
      "model_module_version": "1.5.0",
      "model_name": "ProgressStyleModel",
      "state": {
       "_model_module": "@jupyter-widgets/controls",
       "_model_module_version": "1.5.0",
       "_model_name": "ProgressStyleModel",
       "_view_count": null,
       "_view_module": "@jupyter-widgets/base",
       "_view_module_version": "1.2.0",
       "_view_name": "StyleView",
       "bar_color": null,
       "description_width": ""
      }
     },
     "8e746692882047efb34ce05591e30b18": {
      "model_module": "@jupyter-widgets/base",
      "model_module_version": "1.2.0",
      "model_name": "LayoutModel",
      "state": {
       "_model_module": "@jupyter-widgets/base",
       "_model_module_version": "1.2.0",
       "_model_name": "LayoutModel",
       "_view_count": null,
       "_view_module": "@jupyter-widgets/base",
       "_view_module_version": "1.2.0",
       "_view_name": "LayoutView",
       "align_content": null,
       "align_items": null,
       "align_self": null,
       "border": null,
       "bottom": null,
       "display": null,
       "flex": null,
       "flex_flow": null,
       "grid_area": null,
       "grid_auto_columns": null,
       "grid_auto_flow": null,
       "grid_auto_rows": null,
       "grid_column": null,
       "grid_gap": null,
       "grid_row": null,
       "grid_template_areas": null,
       "grid_template_columns": null,
       "grid_template_rows": null,
       "height": null,
       "justify_content": null,
       "justify_items": null,
       "left": null,
       "margin": null,
       "max_height": null,
       "max_width": null,
       "min_height": null,
       "min_width": null,
       "object_fit": null,
       "object_position": null,
       "order": null,
       "overflow": null,
       "overflow_x": null,
       "overflow_y": null,
       "padding": null,
       "right": null,
       "top": null,
       "visibility": null,
       "width": null
      }
     },
     "aa8b646d8d0e403787f80a6803e9c45b": {
      "model_module": "@jupyter-widgets/base",
      "model_module_version": "1.2.0",
      "model_name": "LayoutModel",
      "state": {
       "_model_module": "@jupyter-widgets/base",
       "_model_module_version": "1.2.0",
       "_model_name": "LayoutModel",
       "_view_count": null,
       "_view_module": "@jupyter-widgets/base",
       "_view_module_version": "1.2.0",
       "_view_name": "LayoutView",
       "align_content": null,
       "align_items": null,
       "align_self": null,
       "border": null,
       "bottom": null,
       "display": null,
       "flex": null,
       "flex_flow": null,
       "grid_area": null,
       "grid_auto_columns": null,
       "grid_auto_flow": null,
       "grid_auto_rows": null,
       "grid_column": null,
       "grid_gap": null,
       "grid_row": null,
       "grid_template_areas": null,
       "grid_template_columns": null,
       "grid_template_rows": null,
       "height": null,
       "justify_content": null,
       "justify_items": null,
       "left": null,
       "margin": null,
       "max_height": null,
       "max_width": null,
       "min_height": null,
       "min_width": null,
       "object_fit": null,
       "object_position": null,
       "order": null,
       "overflow": null,
       "overflow_x": null,
       "overflow_y": null,
       "padding": null,
       "right": null,
       "top": null,
       "visibility": null,
       "width": null
      }
     },
     "c5d3c94e856e435d8adfbc16b19d895f": {
      "model_module": "@jupyter-widgets/controls",
      "model_module_version": "1.5.0",
      "model_name": "FloatProgressModel",
      "state": {
       "_dom_classes": [],
       "_model_module": "@jupyter-widgets/controls",
       "_model_module_version": "1.5.0",
       "_model_name": "FloatProgressModel",
       "_view_count": null,
       "_view_module": "@jupyter-widgets/controls",
       "_view_module_version": "1.5.0",
       "_view_name": "ProgressView",
       "bar_style": "success",
       "description": "",
       "description_tooltip": null,
       "layout": "IPY_MODEL_2f7a94d5056f4e08820b922acb3b82cf",
       "max": 787742820,
       "min": 0,
       "orientation": "horizontal",
       "style": "IPY_MODEL_66a517b6b2d6405fb4b3737192b72dd7",
       "value": 787742820
      }
     },
     "e3fe5248567a4f179505a239482549ac": {
      "model_module": "@jupyter-widgets/controls",
      "model_module_version": "1.5.0",
      "model_name": "HTMLModel",
      "state": {
       "_dom_classes": [],
       "_model_module": "@jupyter-widgets/controls",
       "_model_module_version": "1.5.0",
       "_model_name": "HTMLModel",
       "_view_count": null,
       "_view_module": "@jupyter-widgets/controls",
       "_view_module_version": "1.5.0",
       "_view_name": "HTMLView",
       "description": "",
       "description_tooltip": null,
       "layout": "IPY_MODEL_aa8b646d8d0e403787f80a6803e9c45b",
       "placeholder": "​",
       "style": "IPY_MODEL_2d39bfee703f4618ae6a76d8e874582a",
       "value": "model.safetensors: 100%"
      }
     },
     "e9b124bb90494b7d989e9cb7f4dd2c4e": {
      "model_module": "@jupyter-widgets/controls",
      "model_module_version": "1.5.0",
      "model_name": "HBoxModel",
      "state": {
       "_dom_classes": [],
       "_model_module": "@jupyter-widgets/controls",
       "_model_module_version": "1.5.0",
       "_model_name": "HBoxModel",
       "_view_count": null,
       "_view_module": "@jupyter-widgets/controls",
       "_view_module_version": "1.5.0",
       "_view_name": "HBoxView",
       "box_style": "",
       "children": [
        "IPY_MODEL_e3fe5248567a4f179505a239482549ac",
        "IPY_MODEL_c5d3c94e856e435d8adfbc16b19d895f",
        "IPY_MODEL_fe32d83dc8414c61b8099c6bbc48373c"
       ],
       "layout": "IPY_MODEL_8e746692882047efb34ce05591e30b18"
      }
     },
     "fe32d83dc8414c61b8099c6bbc48373c": {
      "model_module": "@jupyter-widgets/controls",
      "model_module_version": "1.5.0",
      "model_name": "HTMLModel",
      "state": {
       "_dom_classes": [],
       "_model_module": "@jupyter-widgets/controls",
       "_model_module_version": "1.5.0",
       "_model_name": "HTMLModel",
       "_view_count": null,
       "_view_module": "@jupyter-widgets/controls",
       "_view_module_version": "1.5.0",
       "_view_name": "HTMLView",
       "description": "",
       "description_tooltip": null,
       "layout": "IPY_MODEL_1563653d940e4b01bd0b3a188e0ba64c",
       "placeholder": "​",
       "style": "IPY_MODEL_22d71e9435164161981dcdbb8a84b57a",
       "value": " 788M/788M [00:02&lt;00:00, 398MB/s]"
      }
     }
    },
    "version_major": 2,
    "version_minor": 0
   }
  }
 },
 "nbformat": 4,
 "nbformat_minor": 5
}
